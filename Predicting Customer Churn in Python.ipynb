{
 "cells": [
  {
   "cell_type": "markdown",
   "id": "d39a4439",
   "metadata": {},
   "source": [
    "# Objectives"
   ]
  },
  {
   "cell_type": "markdown",
   "id": "f1911256",
   "metadata": {},
   "source": [
    "## 1. Introduce to Churn\n",
    "- Churn\n",
    "  - voluntary churn or involuntary churn\n",
    "  - non-contractual or contractual churn \n",
    " - Customer \n",
    "  - Lack of usage\n",
    "  - Poor service\n",
    "  - Better price"
   ]
  },
  {
   "cell_type": "code",
   "execution_count": 1,
   "id": "bf4fc7ee",
   "metadata": {},
   "outputs": [],
   "source": [
    "import numpy as np\n",
    "import pandas as pd\n",
    "import matplotlib.pyplot as plt \n",
    "import seaborn as sns"
   ]
  },
  {
   "cell_type": "code",
   "execution_count": 24,
   "id": "1107efe3",
   "metadata": {},
   "outputs": [
    {
     "data": {
      "text/html": [
       "<div>\n",
       "<style scoped>\n",
       "    .dataframe tbody tr th:only-of-type {\n",
       "        vertical-align: middle;\n",
       "    }\n",
       "\n",
       "    .dataframe tbody tr th {\n",
       "        vertical-align: top;\n",
       "    }\n",
       "\n",
       "    .dataframe thead th {\n",
       "        text-align: right;\n",
       "    }\n",
       "</style>\n",
       "<table border=\"1\" class=\"dataframe\">\n",
       "  <thead>\n",
       "    <tr style=\"text-align: right;\">\n",
       "      <th></th>\n",
       "      <th>Account_Length</th>\n",
       "      <th>Vmail_Message</th>\n",
       "      <th>Day_Mins</th>\n",
       "      <th>Eve_Mins</th>\n",
       "      <th>Night_Mins</th>\n",
       "      <th>Intl_Mins</th>\n",
       "      <th>CustServ_Calls</th>\n",
       "      <th>Churn</th>\n",
       "      <th>Intl_Plan</th>\n",
       "      <th>Vmail_Plan</th>\n",
       "      <th>...</th>\n",
       "      <th>Day_Charge</th>\n",
       "      <th>Eve_Calls</th>\n",
       "      <th>Eve_Charge</th>\n",
       "      <th>Night_Calls</th>\n",
       "      <th>Night_Charge</th>\n",
       "      <th>Intl_Calls</th>\n",
       "      <th>Intl_Charge</th>\n",
       "      <th>State</th>\n",
       "      <th>Area_Code</th>\n",
       "      <th>Phone</th>\n",
       "    </tr>\n",
       "  </thead>\n",
       "  <tbody>\n",
       "    <tr>\n",
       "      <th>0</th>\n",
       "      <td>128</td>\n",
       "      <td>25</td>\n",
       "      <td>265.1</td>\n",
       "      <td>197.4</td>\n",
       "      <td>244.7</td>\n",
       "      <td>10.0</td>\n",
       "      <td>1</td>\n",
       "      <td>no</td>\n",
       "      <td>no</td>\n",
       "      <td>yes</td>\n",
       "      <td>...</td>\n",
       "      <td>45.07</td>\n",
       "      <td>99</td>\n",
       "      <td>16.78</td>\n",
       "      <td>91</td>\n",
       "      <td>11.01</td>\n",
       "      <td>3</td>\n",
       "      <td>2.70</td>\n",
       "      <td>KS</td>\n",
       "      <td>415</td>\n",
       "      <td>382-4657</td>\n",
       "    </tr>\n",
       "    <tr>\n",
       "      <th>1</th>\n",
       "      <td>107</td>\n",
       "      <td>26</td>\n",
       "      <td>161.6</td>\n",
       "      <td>195.5</td>\n",
       "      <td>254.4</td>\n",
       "      <td>13.7</td>\n",
       "      <td>1</td>\n",
       "      <td>no</td>\n",
       "      <td>no</td>\n",
       "      <td>yes</td>\n",
       "      <td>...</td>\n",
       "      <td>27.47</td>\n",
       "      <td>103</td>\n",
       "      <td>16.62</td>\n",
       "      <td>103</td>\n",
       "      <td>11.45</td>\n",
       "      <td>3</td>\n",
       "      <td>3.70</td>\n",
       "      <td>OH</td>\n",
       "      <td>415</td>\n",
       "      <td>371-7191</td>\n",
       "    </tr>\n",
       "    <tr>\n",
       "      <th>2</th>\n",
       "      <td>137</td>\n",
       "      <td>0</td>\n",
       "      <td>243.4</td>\n",
       "      <td>121.2</td>\n",
       "      <td>162.6</td>\n",
       "      <td>12.2</td>\n",
       "      <td>0</td>\n",
       "      <td>no</td>\n",
       "      <td>no</td>\n",
       "      <td>no</td>\n",
       "      <td>...</td>\n",
       "      <td>41.38</td>\n",
       "      <td>110</td>\n",
       "      <td>10.30</td>\n",
       "      <td>104</td>\n",
       "      <td>7.32</td>\n",
       "      <td>5</td>\n",
       "      <td>3.29</td>\n",
       "      <td>NJ</td>\n",
       "      <td>415</td>\n",
       "      <td>358-1921</td>\n",
       "    </tr>\n",
       "    <tr>\n",
       "      <th>3</th>\n",
       "      <td>84</td>\n",
       "      <td>0</td>\n",
       "      <td>299.4</td>\n",
       "      <td>61.9</td>\n",
       "      <td>196.9</td>\n",
       "      <td>6.6</td>\n",
       "      <td>2</td>\n",
       "      <td>no</td>\n",
       "      <td>yes</td>\n",
       "      <td>no</td>\n",
       "      <td>...</td>\n",
       "      <td>50.90</td>\n",
       "      <td>88</td>\n",
       "      <td>5.26</td>\n",
       "      <td>89</td>\n",
       "      <td>8.86</td>\n",
       "      <td>7</td>\n",
       "      <td>1.78</td>\n",
       "      <td>OH</td>\n",
       "      <td>408</td>\n",
       "      <td>375-9999</td>\n",
       "    </tr>\n",
       "    <tr>\n",
       "      <th>4</th>\n",
       "      <td>75</td>\n",
       "      <td>0</td>\n",
       "      <td>166.7</td>\n",
       "      <td>148.3</td>\n",
       "      <td>186.9</td>\n",
       "      <td>10.1</td>\n",
       "      <td>3</td>\n",
       "      <td>no</td>\n",
       "      <td>yes</td>\n",
       "      <td>no</td>\n",
       "      <td>...</td>\n",
       "      <td>28.34</td>\n",
       "      <td>122</td>\n",
       "      <td>12.61</td>\n",
       "      <td>121</td>\n",
       "      <td>8.41</td>\n",
       "      <td>3</td>\n",
       "      <td>2.73</td>\n",
       "      <td>OK</td>\n",
       "      <td>415</td>\n",
       "      <td>330-6626</td>\n",
       "    </tr>\n",
       "  </tbody>\n",
       "</table>\n",
       "<p>5 rows × 21 columns</p>\n",
       "</div>"
      ],
      "text/plain": [
       "   Account_Length  Vmail_Message  Day_Mins  Eve_Mins  Night_Mins  Intl_Mins  \\\n",
       "0             128             25     265.1     197.4       244.7       10.0   \n",
       "1             107             26     161.6     195.5       254.4       13.7   \n",
       "2             137              0     243.4     121.2       162.6       12.2   \n",
       "3              84              0     299.4      61.9       196.9        6.6   \n",
       "4              75              0     166.7     148.3       186.9       10.1   \n",
       "\n",
       "   CustServ_Calls Churn Intl_Plan Vmail_Plan  ...  Day_Charge  Eve_Calls  \\\n",
       "0               1    no        no        yes  ...       45.07         99   \n",
       "1               1    no        no        yes  ...       27.47        103   \n",
       "2               0    no        no         no  ...       41.38        110   \n",
       "3               2    no       yes         no  ...       50.90         88   \n",
       "4               3    no       yes         no  ...       28.34        122   \n",
       "\n",
       "   Eve_Charge  Night_Calls  Night_Charge  Intl_Calls  Intl_Charge  State  \\\n",
       "0       16.78           91         11.01           3         2.70     KS   \n",
       "1       16.62          103         11.45           3         3.70     OH   \n",
       "2       10.30          104          7.32           5         3.29     NJ   \n",
       "3        5.26           89          8.86           7         1.78     OH   \n",
       "4       12.61          121          8.41           3         2.73     OK   \n",
       "\n",
       "  Area_Code     Phone  \n",
       "0       415  382-4657  \n",
       "1       415  371-7191  \n",
       "2       415  358-1921  \n",
       "3       408  375-9999  \n",
       "4       415  330-6626  \n",
       "\n",
       "[5 rows x 21 columns]"
      ]
     },
     "execution_count": 24,
     "metadata": {},
     "output_type": "execute_result"
    }
   ],
   "source": [
    "url = 'https://assets.datacamp.com/production/repositories/1764/datasets/79c5446a4a753e728e32b4a67138344847b8f131/Churn.csv'\n",
    "telco = pd.read_csv(url)\n",
    "telco.head()"
   ]
  },
  {
   "cell_type": "code",
   "execution_count": 5,
   "id": "a47a18ae",
   "metadata": {},
   "outputs": [
    {
     "data": {
      "text/plain": [
       "no     2850\n",
       "yes     483\n",
       "Name: Churn, dtype: int64"
      ]
     },
     "execution_count": 5,
     "metadata": {},
     "output_type": "execute_result"
    }
   ],
   "source": [
    "telco['Churn'].value_counts()"
   ]
  },
  {
   "cell_type": "markdown",
   "id": "878a57b1",
   "metadata": {},
   "source": [
    "### Explore difference between churners and non_churners\n",
    "- Do churners call customer service more often?\n",
    "- Does one state have more churners compared to another? "
   ]
  },
  {
   "cell_type": "code",
   "execution_count": 8,
   "id": "9661518d",
   "metadata": {},
   "outputs": [
    {
     "data": {
      "text/html": [
       "<div>\n",
       "<style scoped>\n",
       "    .dataframe tbody tr th:only-of-type {\n",
       "        vertical-align: middle;\n",
       "    }\n",
       "\n",
       "    .dataframe tbody tr th {\n",
       "        vertical-align: top;\n",
       "    }\n",
       "\n",
       "    .dataframe thead th {\n",
       "        text-align: right;\n",
       "    }\n",
       "</style>\n",
       "<table border=\"1\" class=\"dataframe\">\n",
       "  <thead>\n",
       "    <tr style=\"text-align: right;\">\n",
       "      <th></th>\n",
       "      <th>CustServ_Calls</th>\n",
       "      <th>Vmail_Message</th>\n",
       "    </tr>\n",
       "    <tr>\n",
       "      <th>Churn</th>\n",
       "      <th></th>\n",
       "      <th></th>\n",
       "    </tr>\n",
       "  </thead>\n",
       "  <tbody>\n",
       "    <tr>\n",
       "      <th>no</th>\n",
       "      <td>1.449825</td>\n",
       "      <td>8.604561</td>\n",
       "    </tr>\n",
       "    <tr>\n",
       "      <th>yes</th>\n",
       "      <td>2.229814</td>\n",
       "      <td>5.115942</td>\n",
       "    </tr>\n",
       "  </tbody>\n",
       "</table>\n",
       "</div>"
      ],
      "text/plain": [
       "       CustServ_Calls  Vmail_Message\n",
       "Churn                               \n",
       "no           1.449825       8.604561\n",
       "yes          2.229814       5.115942"
      ]
     },
     "execution_count": 8,
     "metadata": {},
     "output_type": "execute_result"
    }
   ],
   "source": [
    "df_1 = telco[['CustServ_Calls','Vmail_Message','Churn']]\n",
    "df_1.groupby(['Churn']).mean()"
   ]
  },
  {
   "cell_type": "code",
   "execution_count": 9,
   "id": "18e72b78",
   "metadata": {},
   "outputs": [
    {
     "data": {
      "text/html": [
       "<div>\n",
       "<style scoped>\n",
       "    .dataframe tbody tr th:only-of-type {\n",
       "        vertical-align: middle;\n",
       "    }\n",
       "\n",
       "    .dataframe tbody tr th {\n",
       "        vertical-align: top;\n",
       "    }\n",
       "\n",
       "    .dataframe thead th {\n",
       "        text-align: right;\n",
       "    }\n",
       "</style>\n",
       "<table border=\"1\" class=\"dataframe\">\n",
       "  <thead>\n",
       "    <tr style=\"text-align: right;\">\n",
       "      <th></th>\n",
       "      <th>CustServ_Calls</th>\n",
       "      <th>Vmail_Message</th>\n",
       "    </tr>\n",
       "    <tr>\n",
       "      <th>Churn</th>\n",
       "      <th></th>\n",
       "      <th></th>\n",
       "    </tr>\n",
       "  </thead>\n",
       "  <tbody>\n",
       "    <tr>\n",
       "      <th>no</th>\n",
       "      <td>1.163883</td>\n",
       "      <td>13.913125</td>\n",
       "    </tr>\n",
       "    <tr>\n",
       "      <th>yes</th>\n",
       "      <td>1.853275</td>\n",
       "      <td>11.860138</td>\n",
       "    </tr>\n",
       "  </tbody>\n",
       "</table>\n",
       "</div>"
      ],
      "text/plain": [
       "       CustServ_Calls  Vmail_Message\n",
       "Churn                               \n",
       "no           1.163883      13.913125\n",
       "yes          1.853275      11.860138"
      ]
     },
     "execution_count": 9,
     "metadata": {},
     "output_type": "execute_result"
    }
   ],
   "source": [
    "df_1.groupby(['Churn']).std()"
   ]
  },
  {
   "cell_type": "code",
   "execution_count": 21,
   "id": "754f4405",
   "metadata": {},
   "outputs": [
    {
     "data": {
      "text/plain": [
       "State  Churn\n",
       "AK     no       49\n",
       "       yes       3\n",
       "AL     no       72\n",
       "       yes       8\n",
       "AR     no       44\n",
       "       yes      11\n",
       "AZ     no       60\n",
       "       yes       4\n",
       "CA     no       25\n",
       "       yes       9\n",
       "CO     no       57\n",
       "       yes       9\n",
       "CT     no       62\n",
       "       yes      12\n",
       "DC     no       49\n",
       "       yes       5\n",
       "DE     no       52\n",
       "       yes       9\n",
       "FL     no       55\n",
       "       yes       8\n",
       "Name: Churn, dtype: int64"
      ]
     },
     "execution_count": 21,
     "metadata": {},
     "output_type": "execute_result"
    }
   ],
   "source": [
    "# Count the number of churners and non-churners by State\n",
    "state = telco.groupby('State')['Churn'].value_counts()\n",
    "state.head(20)"
   ]
  },
  {
   "cell_type": "code",
   "execution_count": 23,
   "id": "d096709b",
   "metadata": {},
   "outputs": [
    {
     "data": {
      "image/png": "[encoded data removed]",
      "text/plain": [
       "<Figure size 360x360 with 1 Axes>"
      ]
     },
     "metadata": {
      "needs_background": "light"
     },
     "output_type": "display_data"
    }
   ],
   "source": [
    "# visualize the distribution of account lengths\n",
    "sns.displot(telco['Account_Length'], kde = True)\n",
    "plt.show()"
   ]
  },
  {
   "cell_type": "code",
   "execution_count": 27,
   "id": "309dd321",
   "metadata": {},
   "outputs": [
    {
     "data": {
      "image/png": "[encoded data removed]",
      "text/plain": [
       "<Figure size 432x288 with 1 Axes>"
      ]
     },
     "metadata": {
      "needs_background": "light"
     },
     "output_type": "display_data"
    }
   ],
   "source": [
    "sns.boxplot(x = 'Churn',\n",
    "           y = 'Account_Length',\n",
    "           data = telco, \n",
    "           sym = \"\",\n",
    "           hue = 'Intl_Plan')\n",
    "plt.show()"
   ]
  },
  {
   "cell_type": "code",
   "execution_count": 29,
   "id": "0bae732d",
   "metadata": {},
   "outputs": [
    {
     "data": {
      "image/png": "[encoded data removed]",
      "text/plain": [
       "<Figure size 360x360 with 1 Axes>"
      ]
     },
     "metadata": {
      "needs_background": "light"
     },
     "output_type": "display_data"
    }
   ],
   "source": [
    "# Visualize the distribution of 'Eve_Mins'\n",
    "sns.displot(telco['Day_Mins'])\n",
    "\n",
    "# Display the plot\n",
    "plt.show()"
   ]
  },
  {
   "cell_type": "code",
   "execution_count": 30,
   "id": "6405d9ef",
   "metadata": {},
   "outputs": [
    {
     "data": {
      "image/png": "[encoded data removed]",
      "text/plain": [
       "<Figure size 360x360 with 1 Axes>"
      ]
     },
     "metadata": {
      "needs_background": "light"
     },
     "output_type": "display_data"
    }
   ],
   "source": [
    "# Visualize the distribution of 'Eve_Mins'\n",
    "sns.displot(telco['Eve_Mins'])\n",
    "\n",
    "# Display the plot\n",
    "plt.show()"
   ]
  },
  {
   "cell_type": "code",
   "execution_count": 33,
   "id": "01b5597f",
   "metadata": {},
   "outputs": [
    {
     "data": {
      "image/png": "[encoded data removed]",
      "text/plain": [
       "<Figure size 360x360 with 1 Axes>"
      ]
     },
     "metadata": {
      "needs_background": "light"
     },
     "output_type": "display_data"
    }
   ],
   "source": [
    "# Visualize the distribution of 'Night_Mins'\n",
    "sns.displot(telco['Night_Mins'])\n",
    "\n",
    "# Display the plot\n",
    "plt.show()"
   ]
  },
  {
   "cell_type": "code",
   "execution_count": 32,
   "id": "88133b38",
   "metadata": {},
   "outputs": [
    {
     "data": {
      "image/png": "[encoded data removed]",
      "text/plain": [
       "<Figure size 360x360 with 1 Axes>"
      ]
     },
     "metadata": {
      "needs_background": "light"
     },
     "output_type": "display_data"
    }
   ],
   "source": [
    "# Visualize the distribution of 'Night_Mins'\n",
    "sns.displot(telco['Intl_Mins'])\n",
    "\n",
    "# Display the plot\n",
    "plt.show()"
   ]
  },
  {
   "cell_type": "code",
   "execution_count": 34,
   "id": "69ed9313",
   "metadata": {},
   "outputs": [
    {
     "data": {
      "image/png": "[encoded data removed]",
      "text/plain": [
       "<Figure size 432x288 with 1 Axes>"
      ]
     },
     "metadata": {
      "needs_background": "light"
     },
     "output_type": "display_data"
    }
   ],
   "source": [
    "# \"Vmail_Plan\" as a third variable\n",
    "sns.boxplot(x = 'Churn',\n",
    "            y = 'CustServ_Calls',\n",
    "            data = telco,\n",
    "            sym = \"\",\n",
    "            hue = \"Vmail_Plan\")\n",
    "\n",
    "# Display the plot\n",
    "plt.show()"
   ]
  },
  {
   "cell_type": "code",
   "execution_count": 35,
   "id": "1aefb004",
   "metadata": {},
   "outputs": [
    {
     "data": {
      "image/png": "[encoded data removed]",
      "text/plain": [
       "<Figure size 432x288 with 1 Axes>"
      ]
     },
     "metadata": {
      "needs_background": "light"
     },
     "output_type": "display_data"
    }
   ],
   "source": [
    "# Update \"Intl_Plan\" as a third variable\n",
    "sns.boxplot(x = 'Churn',\n",
    "            y = 'CustServ_Calls',\n",
    "            data = telco,\n",
    "            sym = \"\",\n",
    "            hue = \"Intl_Plan\")\n",
    "\n",
    "# Display the plot\n",
    "plt.show()"
   ]
  },
  {
   "cell_type": "markdown",
   "id": "956a62d6",
   "metadata": {},
   "source": [
    "## 2. Data preprocessing\n",
    "- Check the assumptions \n",
    "  - The features are normally distributed\n",
    "  - The features are on the same scale \n",
    "- Data types\n",
    "  - require numeric datatype \n",
    "  - need to encode categorical variables as numeric \n",
    "    - **.replace()**\n",
    "    - **LabelEncoder()**\n",
    "    - assign numbers to each state: such as 'low','medium','high' etc\n",
    "    - One hot encoding: **.get_dummies()**\n",
    "- Features scaling \n",
    "  - Features should be on the same scale\n",
    "  - Rarely true of real_world data\n",
    "  - Standardization: **StandardScaler**\n",
    "    - Centres the distribution around the mean\n",
    "    - Calculates the number of standard deviations away from the mean each point is\n",
    "- Feature selection: drop unnecessary features \n",
    "  - Unique identifiers: phone numbers, social security numbers and account numbers\n",
    "  - Features that are highly correlated with other features can also be dropped, as no useful additional information provided: **.corr()**\n",
    "- Feature engineering: creating new features to help improve model performance, for example, **Tot_Mins** or **Ratio between mins and charge**\n",
    "  - should consult with business and subject matter experts"
   ]
  },
  {
   "cell_type": "code",
   "execution_count": 33,
   "id": "e3c68990",
   "metadata": {},
   "outputs": [
    {
     "data": {
      "text/plain": [
       "0    0\n",
       "1    0\n",
       "2    0\n",
       "3    1\n",
       "4    1\n",
       "Name: Intl_Plan, dtype: int64"
      ]
     },
     "execution_count": 33,
     "metadata": {},
     "output_type": "execute_result"
    }
   ],
   "source": [
    "telco['Intl_Plan'] = telco['Intl_Plan'].replace({\n",
    "    'no': 0,\n",
    "    'yes': 1\n",
    "})\n",
    "\n",
    "telco['Intl_Plan'].head()"
   ]
  },
  {
   "cell_type": "code",
   "execution_count": 34,
   "id": "f29aa5a1",
   "metadata": {},
   "outputs": [
    {
     "data": {
      "text/plain": [
       "0    0\n",
       "1    0\n",
       "2    0\n",
       "3    1\n",
       "4    1\n",
       "Name: Intl_Plan, dtype: int64"
      ]
     },
     "execution_count": 34,
     "metadata": {},
     "output_type": "execute_result"
    }
   ],
   "source": [
    "from sklearn.preprocessing import LabelEncoder\n",
    "\n",
    "LabelEncoder().fit_transform(telco['Intl_Plan'])\n",
    "telco['Intl_Plan'].head()"
   ]
  },
  {
   "cell_type": "code",
   "execution_count": 7,
   "id": "6770f411",
   "metadata": {},
   "outputs": [
    {
     "data": {
      "text/plain": [
       "51"
      ]
     },
     "execution_count": 7,
     "metadata": {},
     "output_type": "execute_result"
    }
   ],
   "source": [
    "telco['State'].nunique()"
   ]
  },
  {
   "cell_type": "code",
   "execution_count": 9,
   "id": "40147f75",
   "metadata": {},
   "outputs": [
    {
     "data": {
      "text/html": [
       "<div>\n",
       "<style scoped>\n",
       "    .dataframe tbody tr th:only-of-type {\n",
       "        vertical-align: middle;\n",
       "    }\n",
       "\n",
       "    .dataframe tbody tr th {\n",
       "        vertical-align: top;\n",
       "    }\n",
       "\n",
       "    .dataframe thead th {\n",
       "        text-align: right;\n",
       "    }\n",
       "</style>\n",
       "<table border=\"1\" class=\"dataframe\">\n",
       "  <thead>\n",
       "    <tr style=\"text-align: right;\">\n",
       "      <th></th>\n",
       "      <th>Intl_Calls</th>\n",
       "      <th>Night_Mins</th>\n",
       "    </tr>\n",
       "  </thead>\n",
       "  <tbody>\n",
       "    <tr>\n",
       "      <th>count</th>\n",
       "      <td>3333.000000</td>\n",
       "      <td>3333.000000</td>\n",
       "    </tr>\n",
       "    <tr>\n",
       "      <th>mean</th>\n",
       "      <td>4.479448</td>\n",
       "      <td>200.872037</td>\n",
       "    </tr>\n",
       "    <tr>\n",
       "      <th>std</th>\n",
       "      <td>2.461214</td>\n",
       "      <td>50.573847</td>\n",
       "    </tr>\n",
       "    <tr>\n",
       "      <th>min</th>\n",
       "      <td>0.000000</td>\n",
       "      <td>23.200000</td>\n",
       "    </tr>\n",
       "    <tr>\n",
       "      <th>25%</th>\n",
       "      <td>3.000000</td>\n",
       "      <td>167.000000</td>\n",
       "    </tr>\n",
       "    <tr>\n",
       "      <th>50%</th>\n",
       "      <td>4.000000</td>\n",
       "      <td>201.200000</td>\n",
       "    </tr>\n",
       "    <tr>\n",
       "      <th>75%</th>\n",
       "      <td>6.000000</td>\n",
       "      <td>235.300000</td>\n",
       "    </tr>\n",
       "    <tr>\n",
       "      <th>max</th>\n",
       "      <td>20.000000</td>\n",
       "      <td>395.000000</td>\n",
       "    </tr>\n",
       "  </tbody>\n",
       "</table>\n",
       "</div>"
      ],
      "text/plain": [
       "        Intl_Calls   Night_Mins\n",
       "count  3333.000000  3333.000000\n",
       "mean      4.479448   200.872037\n",
       "std       2.461214    50.573847\n",
       "min       0.000000    23.200000\n",
       "25%       3.000000   167.000000\n",
       "50%       4.000000   201.200000\n",
       "75%       6.000000   235.300000\n",
       "max      20.000000   395.000000"
      ]
     },
     "execution_count": 9,
     "metadata": {},
     "output_type": "execute_result"
    }
   ],
   "source": [
    "telco[['Intl_Calls', 'Night_Mins']].describe()"
   ]
  },
  {
   "cell_type": "code",
   "execution_count": 10,
   "id": "94375d63",
   "metadata": {},
   "outputs": [
    {
     "name": "stdout",
     "output_type": "stream",
     "text": [
      "<class 'pandas.core.frame.DataFrame'>\n",
      "RangeIndex: 3333 entries, 0 to 3332\n",
      "Data columns (total 21 columns):\n",
      " #   Column          Non-Null Count  Dtype  \n",
      "---  ------          --------------  -----  \n",
      " 0   Account_Length  3333 non-null   int64  \n",
      " 1   Vmail_Message   3333 non-null   int64  \n",
      " 2   Day_Mins        3333 non-null   float64\n",
      " 3   Eve_Mins        3333 non-null   float64\n",
      " 4   Night_Mins      3333 non-null   float64\n",
      " 5   Intl_Mins       3333 non-null   float64\n",
      " 6   CustServ_Calls  3333 non-null   int64  \n",
      " 7   Churn           3333 non-null   object \n",
      " 8   Intl_Plan       3333 non-null   object \n",
      " 9   Vmail_Plan      3333 non-null   object \n",
      " 10  Day_Calls       3333 non-null   int64  \n",
      " 11  Day_Charge      3333 non-null   float64\n",
      " 12  Eve_Calls       3333 non-null   int64  \n",
      " 13  Eve_Charge      3333 non-null   float64\n",
      " 14  Night_Calls     3333 non-null   int64  \n",
      " 15  Night_Charge    3333 non-null   float64\n",
      " 16  Intl_Calls      3333 non-null   int64  \n",
      " 17  Intl_Charge     3333 non-null   float64\n",
      " 18  State           3333 non-null   object \n",
      " 19  Area_Code       3333 non-null   int64  \n",
      " 20  Phone           3333 non-null   object \n",
      "dtypes: float64(8), int64(8), object(5)\n",
      "memory usage: 546.9+ KB\n"
     ]
    }
   ],
   "source": [
    "telco.info()"
   ]
  },
  {
   "cell_type": "code",
   "execution_count": 14,
   "id": "c615fa2e",
   "metadata": {},
   "outputs": [
    {
     "data": {
      "text/plain": [
       "Churn            2\n",
       "Intl_Plan        2\n",
       "Vmail_Plan       2\n",
       "State           51\n",
       "Phone         3333\n",
       "dtype: int64"
      ]
     },
     "execution_count": 14,
     "metadata": {},
     "output_type": "execute_result"
    }
   ],
   "source": [
    "telco[['Churn','Intl_Plan','Vmail_Plan','State','Phone']].nunique()"
   ]
  },
  {
   "cell_type": "code",
   "execution_count": 15,
   "id": "9e0c1b93",
   "metadata": {},
   "outputs": [
    {
     "data": {
      "text/plain": [
       "0       382-4657\n",
       "1       371-7191\n",
       "2       358-1921\n",
       "3       375-9999\n",
       "4       330-6626\n",
       "          ...   \n",
       "3328    414-4276\n",
       "3329    370-3271\n",
       "3330    328-8230\n",
       "3331    364-6381\n",
       "3332    400-4344\n",
       "Name: Phone, Length: 3333, dtype: object"
      ]
     },
     "execution_count": 15,
     "metadata": {},
     "output_type": "execute_result"
    }
   ],
   "source": [
    "telco['Phone']"
   ]
  },
  {
   "cell_type": "code",
   "execution_count": 25,
   "id": "0bf3796e",
   "metadata": {},
   "outputs": [
    {
     "data": {
      "text/html": [
       "<div>\n",
       "<style scoped>\n",
       "    .dataframe tbody tr th:only-of-type {\n",
       "        vertical-align: middle;\n",
       "    }\n",
       "\n",
       "    .dataframe tbody tr th {\n",
       "        vertical-align: top;\n",
       "    }\n",
       "\n",
       "    .dataframe thead th {\n",
       "        text-align: right;\n",
       "    }\n",
       "</style>\n",
       "<table border=\"1\" class=\"dataframe\">\n",
       "  <thead>\n",
       "    <tr style=\"text-align: right;\">\n",
       "      <th></th>\n",
       "      <th>Account_Length</th>\n",
       "      <th>Vmail_Message</th>\n",
       "      <th>Day_Mins</th>\n",
       "      <th>Eve_Mins</th>\n",
       "      <th>Night_Mins</th>\n",
       "      <th>Intl_Mins</th>\n",
       "      <th>CustServ_Calls</th>\n",
       "      <th>Churn</th>\n",
       "      <th>Intl_Plan</th>\n",
       "      <th>Vmail_Plan</th>\n",
       "      <th>Day_Calls</th>\n",
       "      <th>Day_Charge</th>\n",
       "      <th>Eve_Calls</th>\n",
       "      <th>Eve_Charge</th>\n",
       "      <th>Night_Calls</th>\n",
       "      <th>Night_Charge</th>\n",
       "      <th>Intl_Calls</th>\n",
       "      <th>Intl_Charge</th>\n",
       "      <th>State</th>\n",
       "      <th>Area_Code</th>\n",
       "    </tr>\n",
       "  </thead>\n",
       "  <tbody>\n",
       "    <tr>\n",
       "      <th>0</th>\n",
       "      <td>128</td>\n",
       "      <td>25</td>\n",
       "      <td>265.1</td>\n",
       "      <td>197.4</td>\n",
       "      <td>244.7</td>\n",
       "      <td>10.0</td>\n",
       "      <td>1</td>\n",
       "      <td>no</td>\n",
       "      <td>no</td>\n",
       "      <td>yes</td>\n",
       "      <td>110</td>\n",
       "      <td>45.07</td>\n",
       "      <td>99</td>\n",
       "      <td>16.78</td>\n",
       "      <td>91</td>\n",
       "      <td>11.01</td>\n",
       "      <td>3</td>\n",
       "      <td>2.7</td>\n",
       "      <td>KS</td>\n",
       "      <td>415</td>\n",
       "    </tr>\n",
       "    <tr>\n",
       "      <th>1</th>\n",
       "      <td>107</td>\n",
       "      <td>26</td>\n",
       "      <td>161.6</td>\n",
       "      <td>195.5</td>\n",
       "      <td>254.4</td>\n",
       "      <td>13.7</td>\n",
       "      <td>1</td>\n",
       "      <td>no</td>\n",
       "      <td>no</td>\n",
       "      <td>yes</td>\n",
       "      <td>123</td>\n",
       "      <td>27.47</td>\n",
       "      <td>103</td>\n",
       "      <td>16.62</td>\n",
       "      <td>103</td>\n",
       "      <td>11.45</td>\n",
       "      <td>3</td>\n",
       "      <td>3.7</td>\n",
       "      <td>OH</td>\n",
       "      <td>415</td>\n",
       "    </tr>\n",
       "  </tbody>\n",
       "</table>\n",
       "</div>"
      ],
      "text/plain": [
       "   Account_Length  Vmail_Message  Day_Mins  Eve_Mins  Night_Mins  Intl_Mins  \\\n",
       "0             128             25     265.1     197.4       244.7       10.0   \n",
       "1             107             26     161.6     195.5       254.4       13.7   \n",
       "\n",
       "   CustServ_Calls Churn Intl_Plan Vmail_Plan  Day_Calls  Day_Charge  \\\n",
       "0               1    no        no        yes        110       45.07   \n",
       "1               1    no        no        yes        123       27.47   \n",
       "\n",
       "   Eve_Calls  Eve_Charge  Night_Calls  Night_Charge  Intl_Calls  Intl_Charge  \\\n",
       "0         99       16.78           91         11.01           3          2.7   \n",
       "1        103       16.62          103         11.45           3          3.7   \n",
       "\n",
       "  State  Area_Code  \n",
       "0    KS        415  \n",
       "1    OH        415  "
      ]
     },
     "execution_count": 25,
     "metadata": {},
     "output_type": "execute_result"
    }
   ],
   "source": [
    "telco = telco.drop(['Phone'], axis = 1)\n",
    "telco.head(2)"
   ]
  },
  {
   "cell_type": "code",
   "execution_count": 35,
   "id": "e8f18619",
   "metadata": {},
   "outputs": [],
   "source": [
    "telco.to_csv('/QXJ/Python/Datacamp/Marketing/telco.csv')"
   ]
  },
  {
   "cell_type": "code",
   "execution_count": 27,
   "id": "8b9a4532",
   "metadata": {},
   "outputs": [
    {
     "data": {
      "text/plain": [
       "0    1\n",
       "1    1\n",
       "2    0\n",
       "3    0\n",
       "4    0\n",
       "Name: Vmail_Plan, dtype: int64"
      ]
     },
     "execution_count": 27,
     "metadata": {},
     "output_type": "execute_result"
    }
   ],
   "source": [
    "# Replace 'no' with 0 and 'yes' with 1 in 'Vmail_Plan'\n",
    "telco['Vmail_Plan'] = telco['Vmail_Plan'].replace({\n",
    "    'no': 0,\n",
    "    'yes': 1\n",
    "})\n",
    "\n",
    "telco['Vmail_Plan'].head()"
   ]
  },
  {
   "cell_type": "code",
   "execution_count": 37,
   "id": "ad908afc",
   "metadata": {},
   "outputs": [
    {
     "data": {
      "text/plain": [
       "0    0\n",
       "1    0\n",
       "2    0\n",
       "3    0\n",
       "4    0\n",
       "Name: Churn, dtype: int64"
      ]
     },
     "execution_count": 37,
     "metadata": {},
     "output_type": "execute_result"
    }
   ],
   "source": [
    "telco['Churn'] = telco['Churn'].replace({\n",
    "    'no': 0,\n",
    "    'yes': 1\n",
    "})\n",
    "\n",
    "telco['Churn'].head()"
   ]
  },
  {
   "cell_type": "code",
   "execution_count": 38,
   "id": "ae1f2572",
   "metadata": {},
   "outputs": [
    {
     "name": "stdout",
     "output_type": "stream",
     "text": [
      "<class 'pandas.core.frame.DataFrame'>\n",
      "RangeIndex: 3333 entries, 0 to 3332\n",
      "Data columns (total 20 columns):\n",
      " #   Column          Non-Null Count  Dtype  \n",
      "---  ------          --------------  -----  \n",
      " 0   Account_Length  3333 non-null   int64  \n",
      " 1   Vmail_Message   3333 non-null   int64  \n",
      " 2   Day_Mins        3333 non-null   float64\n",
      " 3   Eve_Mins        3333 non-null   float64\n",
      " 4   Night_Mins      3333 non-null   float64\n",
      " 5   Intl_Mins       3333 non-null   float64\n",
      " 6   CustServ_Calls  3333 non-null   int64  \n",
      " 7   Churn           3333 non-null   int64  \n",
      " 8   Intl_Plan       3333 non-null   int64  \n",
      " 9   Vmail_Plan      3333 non-null   int64  \n",
      " 10  Day_Calls       3333 non-null   int64  \n",
      " 11  Day_Charge      3333 non-null   float64\n",
      " 12  Eve_Calls       3333 non-null   int64  \n",
      " 13  Eve_Charge      3333 non-null   float64\n",
      " 14  Night_Calls     3333 non-null   int64  \n",
      " 15  Night_Charge    3333 non-null   float64\n",
      " 16  Intl_Calls      3333 non-null   int64  \n",
      " 17  Intl_Charge     3333 non-null   float64\n",
      " 18  State           3333 non-null   object \n",
      " 19  Area_Code       3333 non-null   int64  \n",
      "dtypes: float64(8), int64(11), object(1)\n",
      "memory usage: 520.9+ KB\n"
     ]
    }
   ],
   "source": [
    "telco.info()"
   ]
  },
  {
   "cell_type": "code",
   "execution_count": 41,
   "id": "c7fc156e",
   "metadata": {},
   "outputs": [
    {
     "data": {
      "text/html": [
       "<div>\n",
       "<style scoped>\n",
       "    .dataframe tbody tr th:only-of-type {\n",
       "        vertical-align: middle;\n",
       "    }\n",
       "\n",
       "    .dataframe tbody tr th {\n",
       "        vertical-align: top;\n",
       "    }\n",
       "\n",
       "    .dataframe thead th {\n",
       "        text-align: right;\n",
       "    }\n",
       "</style>\n",
       "<table border=\"1\" class=\"dataframe\">\n",
       "  <thead>\n",
       "    <tr style=\"text-align: right;\">\n",
       "      <th></th>\n",
       "      <th>AL</th>\n",
       "      <th>AR</th>\n",
       "      <th>AZ</th>\n",
       "      <th>CA</th>\n",
       "      <th>CO</th>\n",
       "      <th>CT</th>\n",
       "      <th>DC</th>\n",
       "      <th>DE</th>\n",
       "      <th>FL</th>\n",
       "      <th>GA</th>\n",
       "      <th>...</th>\n",
       "      <th>SD</th>\n",
       "      <th>TN</th>\n",
       "      <th>TX</th>\n",
       "      <th>UT</th>\n",
       "      <th>VA</th>\n",
       "      <th>VT</th>\n",
       "      <th>WA</th>\n",
       "      <th>WI</th>\n",
       "      <th>WV</th>\n",
       "      <th>WY</th>\n",
       "    </tr>\n",
       "  </thead>\n",
       "  <tbody>\n",
       "    <tr>\n",
       "      <th>0</th>\n",
       "      <td>0</td>\n",
       "      <td>0</td>\n",
       "      <td>0</td>\n",
       "      <td>0</td>\n",
       "      <td>0</td>\n",
       "      <td>0</td>\n",
       "      <td>0</td>\n",
       "      <td>0</td>\n",
       "      <td>0</td>\n",
       "      <td>0</td>\n",
       "      <td>...</td>\n",
       "      <td>0</td>\n",
       "      <td>0</td>\n",
       "      <td>0</td>\n",
       "      <td>0</td>\n",
       "      <td>0</td>\n",
       "      <td>0</td>\n",
       "      <td>0</td>\n",
       "      <td>0</td>\n",
       "      <td>0</td>\n",
       "      <td>0</td>\n",
       "    </tr>\n",
       "    <tr>\n",
       "      <th>1</th>\n",
       "      <td>0</td>\n",
       "      <td>0</td>\n",
       "      <td>0</td>\n",
       "      <td>0</td>\n",
       "      <td>0</td>\n",
       "      <td>0</td>\n",
       "      <td>0</td>\n",
       "      <td>0</td>\n",
       "      <td>0</td>\n",
       "      <td>0</td>\n",
       "      <td>...</td>\n",
       "      <td>0</td>\n",
       "      <td>0</td>\n",
       "      <td>0</td>\n",
       "      <td>0</td>\n",
       "      <td>0</td>\n",
       "      <td>0</td>\n",
       "      <td>0</td>\n",
       "      <td>0</td>\n",
       "      <td>0</td>\n",
       "      <td>0</td>\n",
       "    </tr>\n",
       "    <tr>\n",
       "      <th>2</th>\n",
       "      <td>0</td>\n",
       "      <td>0</td>\n",
       "      <td>0</td>\n",
       "      <td>0</td>\n",
       "      <td>0</td>\n",
       "      <td>0</td>\n",
       "      <td>0</td>\n",
       "      <td>0</td>\n",
       "      <td>0</td>\n",
       "      <td>0</td>\n",
       "      <td>...</td>\n",
       "      <td>0</td>\n",
       "      <td>0</td>\n",
       "      <td>0</td>\n",
       "      <td>0</td>\n",
       "      <td>0</td>\n",
       "      <td>0</td>\n",
       "      <td>0</td>\n",
       "      <td>0</td>\n",
       "      <td>0</td>\n",
       "      <td>0</td>\n",
       "    </tr>\n",
       "  </tbody>\n",
       "</table>\n",
       "<p>3 rows × 50 columns</p>\n",
       "</div>"
      ],
      "text/plain": [
       "   AL  AR  AZ  CA  CO  CT  DC  DE  FL  GA  ...  SD  TN  TX  UT  VA  VT  WA  \\\n",
       "0   0   0   0   0   0   0   0   0   0   0  ...   0   0   0   0   0   0   0   \n",
       "1   0   0   0   0   0   0   0   0   0   0  ...   0   0   0   0   0   0   0   \n",
       "2   0   0   0   0   0   0   0   0   0   0  ...   0   0   0   0   0   0   0   \n",
       "\n",
       "   WI  WV  WY  \n",
       "0   0   0   0  \n",
       "1   0   0   0  \n",
       "2   0   0   0  \n",
       "\n",
       "[3 rows x 50 columns]"
      ]
     },
     "execution_count": 41,
     "metadata": {},
     "output_type": "execute_result"
    }
   ],
   "source": [
    "# Perform one hot encoding on 'State'\n",
    "telco_state = pd.get_dummies(telco['State'], drop_first = True)\n",
    "telco_state.head(3)"
   ]
  },
  {
   "cell_type": "markdown",
   "id": "eb43c509",
   "metadata": {},
   "source": [
    "**Perform scaling**"
   ]
  },
  {
   "cell_type": "code",
   "execution_count": 42,
   "id": "544ee2ae",
   "metadata": {},
   "outputs": [
    {
     "data": {
      "text/html": [
       "<div>\n",
       "<style scoped>\n",
       "    .dataframe tbody tr th:only-of-type {\n",
       "        vertical-align: middle;\n",
       "    }\n",
       "\n",
       "    .dataframe tbody tr th {\n",
       "        vertical-align: top;\n",
       "    }\n",
       "\n",
       "    .dataframe thead th {\n",
       "        text-align: right;\n",
       "    }\n",
       "</style>\n",
       "<table border=\"1\" class=\"dataframe\">\n",
       "  <thead>\n",
       "    <tr style=\"text-align: right;\">\n",
       "      <th></th>\n",
       "      <th>Intl_Calls</th>\n",
       "      <th>Night_Mins</th>\n",
       "    </tr>\n",
       "  </thead>\n",
       "  <tbody>\n",
       "    <tr>\n",
       "      <th>0</th>\n",
       "      <td>3</td>\n",
       "      <td>244.7</td>\n",
       "    </tr>\n",
       "    <tr>\n",
       "      <th>1</th>\n",
       "      <td>3</td>\n",
       "      <td>254.4</td>\n",
       "    </tr>\n",
       "  </tbody>\n",
       "</table>\n",
       "</div>"
      ],
      "text/plain": [
       "   Intl_Calls  Night_Mins\n",
       "0           3       244.7\n",
       "1           3       254.4"
      ]
     },
     "execution_count": 42,
     "metadata": {},
     "output_type": "execute_result"
    }
   ],
   "source": [
    "telco_df = telco[['Intl_Calls','Night_Mins']]\n",
    "telco_df.head(2)"
   ]
  },
  {
   "cell_type": "code",
   "execution_count": 46,
   "id": "89369d71",
   "metadata": {},
   "outputs": [
    {
     "data": {
      "text/html": [
       "<div>\n",
       "<style scoped>\n",
       "    .dataframe tbody tr th:only-of-type {\n",
       "        vertical-align: middle;\n",
       "    }\n",
       "\n",
       "    .dataframe tbody tr th {\n",
       "        vertical-align: top;\n",
       "    }\n",
       "\n",
       "    .dataframe thead th {\n",
       "        text-align: right;\n",
       "    }\n",
       "</style>\n",
       "<table border=\"1\" class=\"dataframe\">\n",
       "  <thead>\n",
       "    <tr style=\"text-align: right;\">\n",
       "      <th></th>\n",
       "      <th>Intl_Calls</th>\n",
       "      <th>Night_Mins</th>\n",
       "    </tr>\n",
       "  </thead>\n",
       "  <tbody>\n",
       "    <tr>\n",
       "      <th>count</th>\n",
       "      <td>3.333000e+03</td>\n",
       "      <td>3.333000e+03</td>\n",
       "    </tr>\n",
       "    <tr>\n",
       "      <th>mean</th>\n",
       "      <td>-1.264615e-16</td>\n",
       "      <td>6.602046e-17</td>\n",
       "    </tr>\n",
       "    <tr>\n",
       "      <th>std</th>\n",
       "      <td>1.000150e+00</td>\n",
       "      <td>1.000150e+00</td>\n",
       "    </tr>\n",
       "    <tr>\n",
       "      <th>min</th>\n",
       "      <td>-1.820289e+00</td>\n",
       "      <td>-3.513648e+00</td>\n",
       "    </tr>\n",
       "    <tr>\n",
       "      <th>25%</th>\n",
       "      <td>-6.011951e-01</td>\n",
       "      <td>-6.698545e-01</td>\n",
       "    </tr>\n",
       "    <tr>\n",
       "      <th>50%</th>\n",
       "      <td>-1.948306e-01</td>\n",
       "      <td>6.485803e-03</td>\n",
       "    </tr>\n",
       "    <tr>\n",
       "      <th>75%</th>\n",
       "      <td>6.178983e-01</td>\n",
       "      <td>6.808485e-01</td>\n",
       "    </tr>\n",
       "    <tr>\n",
       "      <th>max</th>\n",
       "      <td>6.307001e+00</td>\n",
       "      <td>3.839081e+00</td>\n",
       "    </tr>\n",
       "  </tbody>\n",
       "</table>\n",
       "</div>"
      ],
      "text/plain": [
       "         Intl_Calls    Night_Mins\n",
       "count  3.333000e+03  3.333000e+03\n",
       "mean  -1.264615e-16  6.602046e-17\n",
       "std    1.000150e+00  1.000150e+00\n",
       "min   -1.820289e+00 -3.513648e+00\n",
       "25%   -6.011951e-01 -6.698545e-01\n",
       "50%   -1.948306e-01  6.485803e-03\n",
       "75%    6.178983e-01  6.808485e-01\n",
       "max    6.307001e+00  3.839081e+00"
      ]
     },
     "execution_count": 46,
     "metadata": {},
     "output_type": "execute_result"
    }
   ],
   "source": [
    "from sklearn.preprocessing import StandardScaler\n",
    "\n",
    "scaler = StandardScaler()\n",
    "telco_scaled = scaler.fit_transform(telco_df)\n",
    "telco_scaled = pd.DataFrame(telco_scaled,\n",
    "                            columns = ['Intl_Calls','Night_Mins'])\n",
    "telco_scaled.describe()"
   ]
  },
  {
   "cell_type": "markdown",
   "id": "857f5a17",
   "metadata": {},
   "source": [
    "**Feature selection and engineering*+"
   ]
  },
  {
   "cell_type": "code",
   "execution_count": 52,
   "id": "aa3d12d6",
   "metadata": {},
   "outputs": [
    {
     "data": {
      "text/html": [
       "<div>\n",
       "<style scoped>\n",
       "    .dataframe tbody tr th:only-of-type {\n",
       "        vertical-align: middle;\n",
       "    }\n",
       "\n",
       "    .dataframe tbody tr th {\n",
       "        vertical-align: top;\n",
       "    }\n",
       "\n",
       "    .dataframe thead th {\n",
       "        text-align: right;\n",
       "    }\n",
       "</style>\n",
       "<table border=\"1\" class=\"dataframe\">\n",
       "  <thead>\n",
       "    <tr style=\"text-align: right;\">\n",
       "      <th></th>\n",
       "      <th>Account_Length</th>\n",
       "      <th>Vmail_Message</th>\n",
       "      <th>Day_Mins</th>\n",
       "      <th>Eve_Mins</th>\n",
       "      <th>Night_Mins</th>\n",
       "      <th>Intl_Mins</th>\n",
       "      <th>CustServ_Calls</th>\n",
       "      <th>Intl_Plan</th>\n",
       "      <th>Vmail_Plan</th>\n",
       "      <th>Day_Calls</th>\n",
       "      <th>Day_Charge</th>\n",
       "      <th>Eve_Calls</th>\n",
       "      <th>Eve_Charge</th>\n",
       "      <th>Night_Calls</th>\n",
       "      <th>Night_Charge</th>\n",
       "      <th>Intl_Calls</th>\n",
       "      <th>Intl_Charge</th>\n",
       "      <th>Area_Code</th>\n",
       "    </tr>\n",
       "  </thead>\n",
       "  <tbody>\n",
       "    <tr>\n",
       "      <th>Account_Length</th>\n",
       "      <td>1.000000</td>\n",
       "      <td>-0.004628</td>\n",
       "      <td>0.006216</td>\n",
       "      <td>-0.006757</td>\n",
       "      <td>-0.008955</td>\n",
       "      <td>0.009514</td>\n",
       "      <td>-0.003796</td>\n",
       "      <td>0.024735</td>\n",
       "      <td>0.002918</td>\n",
       "      <td>0.038470</td>\n",
       "      <td>0.006214</td>\n",
       "      <td>0.019260</td>\n",
       "      <td>-0.006745</td>\n",
       "      <td>-0.013176</td>\n",
       "      <td>-0.008960</td>\n",
       "      <td>0.020661</td>\n",
       "      <td>0.009546</td>\n",
       "      <td>-0.012463</td>\n",
       "    </tr>\n",
       "    <tr>\n",
       "      <th>Vmail_Message</th>\n",
       "      <td>-0.004628</td>\n",
       "      <td>1.000000</td>\n",
       "      <td>0.000778</td>\n",
       "      <td>0.017562</td>\n",
       "      <td>0.007681</td>\n",
       "      <td>0.002856</td>\n",
       "      <td>-0.013263</td>\n",
       "      <td>0.008745</td>\n",
       "      <td>0.956927</td>\n",
       "      <td>-0.009548</td>\n",
       "      <td>0.000776</td>\n",
       "      <td>-0.005864</td>\n",
       "      <td>0.017578</td>\n",
       "      <td>0.007123</td>\n",
       "      <td>0.007663</td>\n",
       "      <td>0.013957</td>\n",
       "      <td>0.002884</td>\n",
       "      <td>-0.001994</td>\n",
       "    </tr>\n",
       "    <tr>\n",
       "      <th>Day_Mins</th>\n",
       "      <td>0.006216</td>\n",
       "      <td>0.000778</td>\n",
       "      <td>1.000000</td>\n",
       "      <td>0.007043</td>\n",
       "      <td>0.004323</td>\n",
       "      <td>-0.010155</td>\n",
       "      <td>-0.013423</td>\n",
       "      <td>0.049396</td>\n",
       "      <td>-0.001684</td>\n",
       "      <td>0.006750</td>\n",
       "      <td>1.000000</td>\n",
       "      <td>0.015769</td>\n",
       "      <td>0.007029</td>\n",
       "      <td>0.022972</td>\n",
       "      <td>0.004300</td>\n",
       "      <td>0.008033</td>\n",
       "      <td>-0.010092</td>\n",
       "      <td>-0.008264</td>\n",
       "    </tr>\n",
       "    <tr>\n",
       "      <th>Eve_Mins</th>\n",
       "      <td>-0.006757</td>\n",
       "      <td>0.017562</td>\n",
       "      <td>0.007043</td>\n",
       "      <td>1.000000</td>\n",
       "      <td>-0.012584</td>\n",
       "      <td>-0.011035</td>\n",
       "      <td>-0.012985</td>\n",
       "      <td>0.019100</td>\n",
       "      <td>0.021545</td>\n",
       "      <td>-0.021451</td>\n",
       "      <td>0.007050</td>\n",
       "      <td>-0.011430</td>\n",
       "      <td>1.000000</td>\n",
       "      <td>0.007586</td>\n",
       "      <td>-0.012593</td>\n",
       "      <td>0.002541</td>\n",
       "      <td>-0.011067</td>\n",
       "      <td>0.003580</td>\n",
       "    </tr>\n",
       "    <tr>\n",
       "      <th>Night_Mins</th>\n",
       "      <td>-0.008955</td>\n",
       "      <td>0.007681</td>\n",
       "      <td>0.004323</td>\n",
       "      <td>-0.012584</td>\n",
       "      <td>1.000000</td>\n",
       "      <td>-0.015207</td>\n",
       "      <td>-0.009288</td>\n",
       "      <td>-0.028905</td>\n",
       "      <td>0.006079</td>\n",
       "      <td>0.022938</td>\n",
       "      <td>0.004324</td>\n",
       "      <td>-0.002093</td>\n",
       "      <td>-0.012592</td>\n",
       "      <td>0.011204</td>\n",
       "      <td>0.999999</td>\n",
       "      <td>-0.012353</td>\n",
       "      <td>-0.015180</td>\n",
       "      <td>-0.005825</td>\n",
       "    </tr>\n",
       "    <tr>\n",
       "      <th>Intl_Mins</th>\n",
       "      <td>0.009514</td>\n",
       "      <td>0.002856</td>\n",
       "      <td>-0.010155</td>\n",
       "      <td>-0.011035</td>\n",
       "      <td>-0.015207</td>\n",
       "      <td>1.000000</td>\n",
       "      <td>-0.009640</td>\n",
       "      <td>0.045871</td>\n",
       "      <td>-0.001318</td>\n",
       "      <td>0.021565</td>\n",
       "      <td>-0.010157</td>\n",
       "      <td>0.008703</td>\n",
       "      <td>-0.011043</td>\n",
       "      <td>-0.013605</td>\n",
       "      <td>-0.015214</td>\n",
       "      <td>0.032304</td>\n",
       "      <td>0.999993</td>\n",
       "      <td>-0.018288</td>\n",
       "    </tr>\n",
       "    <tr>\n",
       "      <th>CustServ_Calls</th>\n",
       "      <td>-0.003796</td>\n",
       "      <td>-0.013263</td>\n",
       "      <td>-0.013423</td>\n",
       "      <td>-0.012985</td>\n",
       "      <td>-0.009288</td>\n",
       "      <td>-0.009640</td>\n",
       "      <td>1.000000</td>\n",
       "      <td>-0.024522</td>\n",
       "      <td>-0.017824</td>\n",
       "      <td>-0.018942</td>\n",
       "      <td>-0.013427</td>\n",
       "      <td>0.002423</td>\n",
       "      <td>-0.012987</td>\n",
       "      <td>-0.012802</td>\n",
       "      <td>-0.009277</td>\n",
       "      <td>-0.017561</td>\n",
       "      <td>-0.009675</td>\n",
       "      <td>0.027572</td>\n",
       "    </tr>\n",
       "    <tr>\n",
       "      <th>Intl_Plan</th>\n",
       "      <td>0.024735</td>\n",
       "      <td>0.008745</td>\n",
       "      <td>0.049396</td>\n",
       "      <td>0.019100</td>\n",
       "      <td>-0.028905</td>\n",
       "      <td>0.045871</td>\n",
       "      <td>-0.024522</td>\n",
       "      <td>1.000000</td>\n",
       "      <td>0.006006</td>\n",
       "      <td>0.003755</td>\n",
       "      <td>0.049398</td>\n",
       "      <td>0.006114</td>\n",
       "      <td>0.019106</td>\n",
       "      <td>0.012451</td>\n",
       "      <td>-0.028913</td>\n",
       "      <td>0.017366</td>\n",
       "      <td>0.045780</td>\n",
       "      <td>0.048551</td>\n",
       "    </tr>\n",
       "    <tr>\n",
       "      <th>Vmail_Plan</th>\n",
       "      <td>0.002918</td>\n",
       "      <td>0.956927</td>\n",
       "      <td>-0.001684</td>\n",
       "      <td>0.021545</td>\n",
       "      <td>0.006079</td>\n",
       "      <td>-0.001318</td>\n",
       "      <td>-0.017824</td>\n",
       "      <td>0.006006</td>\n",
       "      <td>1.000000</td>\n",
       "      <td>-0.011086</td>\n",
       "      <td>-0.001686</td>\n",
       "      <td>-0.006444</td>\n",
       "      <td>0.021559</td>\n",
       "      <td>0.015553</td>\n",
       "      <td>0.006064</td>\n",
       "      <td>0.007618</td>\n",
       "      <td>-0.001276</td>\n",
       "      <td>-0.000747</td>\n",
       "    </tr>\n",
       "    <tr>\n",
       "      <th>Day_Calls</th>\n",
       "      <td>0.038470</td>\n",
       "      <td>-0.009548</td>\n",
       "      <td>0.006750</td>\n",
       "      <td>-0.021451</td>\n",
       "      <td>0.022938</td>\n",
       "      <td>0.021565</td>\n",
       "      <td>-0.018942</td>\n",
       "      <td>0.003755</td>\n",
       "      <td>-0.011086</td>\n",
       "      <td>1.000000</td>\n",
       "      <td>0.006753</td>\n",
       "      <td>0.006462</td>\n",
       "      <td>-0.021449</td>\n",
       "      <td>-0.019557</td>\n",
       "      <td>0.022927</td>\n",
       "      <td>0.004574</td>\n",
       "      <td>0.021666</td>\n",
       "      <td>-0.009646</td>\n",
       "    </tr>\n",
       "    <tr>\n",
       "      <th>Day_Charge</th>\n",
       "      <td>0.006214</td>\n",
       "      <td>0.000776</td>\n",
       "      <td>1.000000</td>\n",
       "      <td>0.007050</td>\n",
       "      <td>0.004324</td>\n",
       "      <td>-0.010157</td>\n",
       "      <td>-0.013427</td>\n",
       "      <td>0.049398</td>\n",
       "      <td>-0.001686</td>\n",
       "      <td>0.006753</td>\n",
       "      <td>1.000000</td>\n",
       "      <td>0.015769</td>\n",
       "      <td>0.007036</td>\n",
       "      <td>0.022972</td>\n",
       "      <td>0.004301</td>\n",
       "      <td>0.008032</td>\n",
       "      <td>-0.010094</td>\n",
       "      <td>-0.008264</td>\n",
       "    </tr>\n",
       "    <tr>\n",
       "      <th>Eve_Calls</th>\n",
       "      <td>0.019260</td>\n",
       "      <td>-0.005864</td>\n",
       "      <td>0.015769</td>\n",
       "      <td>-0.011430</td>\n",
       "      <td>-0.002093</td>\n",
       "      <td>0.008703</td>\n",
       "      <td>0.002423</td>\n",
       "      <td>0.006114</td>\n",
       "      <td>-0.006444</td>\n",
       "      <td>0.006462</td>\n",
       "      <td>0.015769</td>\n",
       "      <td>1.000000</td>\n",
       "      <td>-0.011423</td>\n",
       "      <td>0.007710</td>\n",
       "      <td>-0.002056</td>\n",
       "      <td>0.017434</td>\n",
       "      <td>0.008674</td>\n",
       "      <td>-0.011886</td>\n",
       "    </tr>\n",
       "    <tr>\n",
       "      <th>Eve_Charge</th>\n",
       "      <td>-0.006745</td>\n",
       "      <td>0.017578</td>\n",
       "      <td>0.007029</td>\n",
       "      <td>1.000000</td>\n",
       "      <td>-0.012592</td>\n",
       "      <td>-0.011043</td>\n",
       "      <td>-0.012987</td>\n",
       "      <td>0.019106</td>\n",
       "      <td>0.021559</td>\n",
       "      <td>-0.021449</td>\n",
       "      <td>0.007036</td>\n",
       "      <td>-0.011423</td>\n",
       "      <td>1.000000</td>\n",
       "      <td>0.007596</td>\n",
       "      <td>-0.012601</td>\n",
       "      <td>0.002541</td>\n",
       "      <td>-0.011074</td>\n",
       "      <td>0.003607</td>\n",
       "    </tr>\n",
       "    <tr>\n",
       "      <th>Night_Calls</th>\n",
       "      <td>-0.013176</td>\n",
       "      <td>0.007123</td>\n",
       "      <td>0.022972</td>\n",
       "      <td>0.007586</td>\n",
       "      <td>0.011204</td>\n",
       "      <td>-0.013605</td>\n",
       "      <td>-0.012802</td>\n",
       "      <td>0.012451</td>\n",
       "      <td>0.015553</td>\n",
       "      <td>-0.019557</td>\n",
       "      <td>0.022972</td>\n",
       "      <td>0.007710</td>\n",
       "      <td>0.007596</td>\n",
       "      <td>1.000000</td>\n",
       "      <td>0.011188</td>\n",
       "      <td>0.000305</td>\n",
       "      <td>-0.013630</td>\n",
       "      <td>0.016522</td>\n",
       "    </tr>\n",
       "    <tr>\n",
       "      <th>Night_Charge</th>\n",
       "      <td>-0.008960</td>\n",
       "      <td>0.007663</td>\n",
       "      <td>0.004300</td>\n",
       "      <td>-0.012593</td>\n",
       "      <td>0.999999</td>\n",
       "      <td>-0.015214</td>\n",
       "      <td>-0.009277</td>\n",
       "      <td>-0.028913</td>\n",
       "      <td>0.006064</td>\n",
       "      <td>0.022927</td>\n",
       "      <td>0.004301</td>\n",
       "      <td>-0.002056</td>\n",
       "      <td>-0.012601</td>\n",
       "      <td>0.011188</td>\n",
       "      <td>1.000000</td>\n",
       "      <td>-0.012329</td>\n",
       "      <td>-0.015186</td>\n",
       "      <td>-0.005845</td>\n",
       "    </tr>\n",
       "    <tr>\n",
       "      <th>Intl_Calls</th>\n",
       "      <td>0.020661</td>\n",
       "      <td>0.013957</td>\n",
       "      <td>0.008033</td>\n",
       "      <td>0.002541</td>\n",
       "      <td>-0.012353</td>\n",
       "      <td>0.032304</td>\n",
       "      <td>-0.017561</td>\n",
       "      <td>0.017366</td>\n",
       "      <td>0.007618</td>\n",
       "      <td>0.004574</td>\n",
       "      <td>0.008032</td>\n",
       "      <td>0.017434</td>\n",
       "      <td>0.002541</td>\n",
       "      <td>0.000305</td>\n",
       "      <td>-0.012329</td>\n",
       "      <td>1.000000</td>\n",
       "      <td>0.032372</td>\n",
       "      <td>-0.024179</td>\n",
       "    </tr>\n",
       "    <tr>\n",
       "      <th>Intl_Charge</th>\n",
       "      <td>0.009546</td>\n",
       "      <td>0.002884</td>\n",
       "      <td>-0.010092</td>\n",
       "      <td>-0.011067</td>\n",
       "      <td>-0.015180</td>\n",
       "      <td>0.999993</td>\n",
       "      <td>-0.009675</td>\n",
       "      <td>0.045780</td>\n",
       "      <td>-0.001276</td>\n",
       "      <td>0.021666</td>\n",
       "      <td>-0.010094</td>\n",
       "      <td>0.008674</td>\n",
       "      <td>-0.011074</td>\n",
       "      <td>-0.013630</td>\n",
       "      <td>-0.015186</td>\n",
       "      <td>0.032372</td>\n",
       "      <td>1.000000</td>\n",
       "      <td>-0.018395</td>\n",
       "    </tr>\n",
       "    <tr>\n",
       "      <th>Area_Code</th>\n",
       "      <td>-0.012463</td>\n",
       "      <td>-0.001994</td>\n",
       "      <td>-0.008264</td>\n",
       "      <td>0.003580</td>\n",
       "      <td>-0.005825</td>\n",
       "      <td>-0.018288</td>\n",
       "      <td>0.027572</td>\n",
       "      <td>0.048551</td>\n",
       "      <td>-0.000747</td>\n",
       "      <td>-0.009646</td>\n",
       "      <td>-0.008264</td>\n",
       "      <td>-0.011886</td>\n",
       "      <td>0.003607</td>\n",
       "      <td>0.016522</td>\n",
       "      <td>-0.005845</td>\n",
       "      <td>-0.024179</td>\n",
       "      <td>-0.018395</td>\n",
       "      <td>1.000000</td>\n",
       "    </tr>\n",
       "  </tbody>\n",
       "</table>\n",
       "</div>"
      ],
      "text/plain": [
       "                Account_Length  Vmail_Message  Day_Mins  Eve_Mins  Night_Mins  \\\n",
       "Account_Length        1.000000      -0.004628  0.006216 -0.006757   -0.008955   \n",
       "Vmail_Message        -0.004628       1.000000  0.000778  0.017562    0.007681   \n",
       "Day_Mins              0.006216       0.000778  1.000000  0.007043    0.004323   \n",
       "Eve_Mins             -0.006757       0.017562  0.007043  1.000000   -0.012584   \n",
       "Night_Mins           -0.008955       0.007681  0.004323 -0.012584    1.000000   \n",
       "Intl_Mins             0.009514       0.002856 -0.010155 -0.011035   -0.015207   \n",
       "CustServ_Calls       -0.003796      -0.013263 -0.013423 -0.012985   -0.009288   \n",
       "Intl_Plan             0.024735       0.008745  0.049396  0.019100   -0.028905   \n",
       "Vmail_Plan            0.002918       0.956927 -0.001684  0.021545    0.006079   \n",
       "Day_Calls             0.038470      -0.009548  0.006750 -0.021451    0.022938   \n",
       "Day_Charge            0.006214       0.000776  1.000000  0.007050    0.004324   \n",
       "Eve_Calls             0.019260      -0.005864  0.015769 -0.011430   -0.002093   \n",
       "Eve_Charge           -0.006745       0.017578  0.007029  1.000000   -0.012592   \n",
       "Night_Calls          -0.013176       0.007123  0.022972  0.007586    0.011204   \n",
       "Night_Charge         -0.008960       0.007663  0.004300 -0.012593    0.999999   \n",
       "Intl_Calls            0.020661       0.013957  0.008033  0.002541   -0.012353   \n",
       "Intl_Charge           0.009546       0.002884 -0.010092 -0.011067   -0.015180   \n",
       "Area_Code            -0.012463      -0.001994 -0.008264  0.003580   -0.005825   \n",
       "\n",
       "                Intl_Mins  CustServ_Calls  Intl_Plan  Vmail_Plan  Day_Calls  \\\n",
       "Account_Length   0.009514       -0.003796   0.024735    0.002918   0.038470   \n",
       "Vmail_Message    0.002856       -0.013263   0.008745    0.956927  -0.009548   \n",
       "Day_Mins        -0.010155       -0.013423   0.049396   -0.001684   0.006750   \n",
       "Eve_Mins        -0.011035       -0.012985   0.019100    0.021545  -0.021451   \n",
       "Night_Mins      -0.015207       -0.009288  -0.028905    0.006079   0.022938   \n",
       "Intl_Mins        1.000000       -0.009640   0.045871   -0.001318   0.021565   \n",
       "CustServ_Calls  -0.009640        1.000000  -0.024522   -0.017824  -0.018942   \n",
       "Intl_Plan        0.045871       -0.024522   1.000000    0.006006   0.003755   \n",
       "Vmail_Plan      -0.001318       -0.017824   0.006006    1.000000  -0.011086   \n",
       "Day_Calls        0.021565       -0.018942   0.003755   -0.011086   1.000000   \n",
       "Day_Charge      -0.010157       -0.013427   0.049398   -0.001686   0.006753   \n",
       "Eve_Calls        0.008703        0.002423   0.006114   -0.006444   0.006462   \n",
       "Eve_Charge      -0.011043       -0.012987   0.019106    0.021559  -0.021449   \n",
       "Night_Calls     -0.013605       -0.012802   0.012451    0.015553  -0.019557   \n",
       "Night_Charge    -0.015214       -0.009277  -0.028913    0.006064   0.022927   \n",
       "Intl_Calls       0.032304       -0.017561   0.017366    0.007618   0.004574   \n",
       "Intl_Charge      0.999993       -0.009675   0.045780   -0.001276   0.021666   \n",
       "Area_Code       -0.018288        0.027572   0.048551   -0.000747  -0.009646   \n",
       "\n",
       "                Day_Charge  Eve_Calls  Eve_Charge  Night_Calls  Night_Charge  \\\n",
       "Account_Length    0.006214   0.019260   -0.006745    -0.013176     -0.008960   \n",
       "Vmail_Message     0.000776  -0.005864    0.017578     0.007123      0.007663   \n",
       "Day_Mins          1.000000   0.015769    0.007029     0.022972      0.004300   \n",
       "Eve_Mins          0.007050  -0.011430    1.000000     0.007586     -0.012593   \n",
       "Night_Mins        0.004324  -0.002093   -0.012592     0.011204      0.999999   \n",
       "Intl_Mins        -0.010157   0.008703   -0.011043    -0.013605     -0.015214   \n",
       "CustServ_Calls   -0.013427   0.002423   -0.012987    -0.012802     -0.009277   \n",
       "Intl_Plan         0.049398   0.006114    0.019106     0.012451     -0.028913   \n",
       "Vmail_Plan       -0.001686  -0.006444    0.021559     0.015553      0.006064   \n",
       "Day_Calls         0.006753   0.006462   -0.021449    -0.019557      0.022927   \n",
       "Day_Charge        1.000000   0.015769    0.007036     0.022972      0.004301   \n",
       "Eve_Calls         0.015769   1.000000   -0.011423     0.007710     -0.002056   \n",
       "Eve_Charge        0.007036  -0.011423    1.000000     0.007596     -0.012601   \n",
       "Night_Calls       0.022972   0.007710    0.007596     1.000000      0.011188   \n",
       "Night_Charge      0.004301  -0.002056   -0.012601     0.011188      1.000000   \n",
       "Intl_Calls        0.008032   0.017434    0.002541     0.000305     -0.012329   \n",
       "Intl_Charge      -0.010094   0.008674   -0.011074    -0.013630     -0.015186   \n",
       "Area_Code        -0.008264  -0.011886    0.003607     0.016522     -0.005845   \n",
       "\n",
       "                Intl_Calls  Intl_Charge  Area_Code  \n",
       "Account_Length    0.020661     0.009546  -0.012463  \n",
       "Vmail_Message     0.013957     0.002884  -0.001994  \n",
       "Day_Mins          0.008033    -0.010092  -0.008264  \n",
       "Eve_Mins          0.002541    -0.011067   0.003580  \n",
       "Night_Mins       -0.012353    -0.015180  -0.005825  \n",
       "Intl_Mins         0.032304     0.999993  -0.018288  \n",
       "CustServ_Calls   -0.017561    -0.009675   0.027572  \n",
       "Intl_Plan         0.017366     0.045780   0.048551  \n",
       "Vmail_Plan        0.007618    -0.001276  -0.000747  \n",
       "Day_Calls         0.004574     0.021666  -0.009646  \n",
       "Day_Charge        0.008032    -0.010094  -0.008264  \n",
       "Eve_Calls         0.017434     0.008674  -0.011886  \n",
       "Eve_Charge        0.002541    -0.011074   0.003607  \n",
       "Night_Calls       0.000305    -0.013630   0.016522  \n",
       "Night_Charge     -0.012329    -0.015186  -0.005845  \n",
       "Intl_Calls        1.000000     0.032372  -0.024179  \n",
       "Intl_Charge       0.032372     1.000000  -0.018395  \n",
       "Area_Code        -0.024179    -0.018395   1.000000  "
      ]
     },
     "execution_count": 52,
     "metadata": {},
     "output_type": "execute_result"
    }
   ],
   "source": [
    "telco.drop('Churn', axis = 1).corr()"
   ]
  },
  {
   "cell_type": "code",
   "execution_count": 54,
   "id": "0b3f13b5",
   "metadata": {},
   "outputs": [
    {
     "data": {
      "image/png": "[encoded data removed]",
      "text/plain": [
       "<Figure size 432x288 with 2 Axes>"
      ]
     },
     "metadata": {
      "needs_background": "light"
     },
     "output_type": "display_data"
    }
   ],
   "source": [
    "sns.heatmap(telco.drop('Churn', axis = 1).corr(),\n",
    "            cmap = 'Greens')\n",
    "plt.show()"
   ]
  },
  {
   "cell_type": "code",
   "execution_count": 64,
   "id": "6bdd9827",
   "metadata": {},
   "outputs": [
    {
     "data": {
      "text/html": [
       "<div>\n",
       "<style scoped>\n",
       "    .dataframe tbody tr th:only-of-type {\n",
       "        vertical-align: middle;\n",
       "    }\n",
       "\n",
       "    .dataframe tbody tr th {\n",
       "        vertical-align: top;\n",
       "    }\n",
       "\n",
       "    .dataframe thead th {\n",
       "        text-align: right;\n",
       "    }\n",
       "</style>\n",
       "<table border=\"1\" class=\"dataframe\">\n",
       "  <thead>\n",
       "    <tr style=\"text-align: right;\">\n",
       "      <th></th>\n",
       "      <th>Account_Length</th>\n",
       "      <th>Vmail_Message</th>\n",
       "      <th>Day_Mins</th>\n",
       "      <th>Eve_Mins</th>\n",
       "      <th>Night_Mins</th>\n",
       "      <th>Intl_Mins</th>\n",
       "      <th>CustServ_Calls</th>\n",
       "      <th>Churn</th>\n",
       "      <th>Intl_Plan</th>\n",
       "      <th>Vmail_Plan</th>\n",
       "      <th>Day_Calls</th>\n",
       "      <th>Day_Charge</th>\n",
       "      <th>Eve_Calls</th>\n",
       "      <th>Eve_Charge</th>\n",
       "      <th>Night_Calls</th>\n",
       "      <th>Night_Charge</th>\n",
       "      <th>Intl_Calls</th>\n",
       "      <th>Intl_Charge</th>\n",
       "    </tr>\n",
       "  </thead>\n",
       "  <tbody>\n",
       "    <tr>\n",
       "      <th>0</th>\n",
       "      <td>128</td>\n",
       "      <td>25</td>\n",
       "      <td>265.1</td>\n",
       "      <td>197.4</td>\n",
       "      <td>244.7</td>\n",
       "      <td>10.0</td>\n",
       "      <td>1</td>\n",
       "      <td>0</td>\n",
       "      <td>0</td>\n",
       "      <td>1</td>\n",
       "      <td>110</td>\n",
       "      <td>45.07</td>\n",
       "      <td>99</td>\n",
       "      <td>16.78</td>\n",
       "      <td>91</td>\n",
       "      <td>11.01</td>\n",
       "      <td>3</td>\n",
       "      <td>2.70</td>\n",
       "    </tr>\n",
       "    <tr>\n",
       "      <th>1</th>\n",
       "      <td>107</td>\n",
       "      <td>26</td>\n",
       "      <td>161.6</td>\n",
       "      <td>195.5</td>\n",
       "      <td>254.4</td>\n",
       "      <td>13.7</td>\n",
       "      <td>1</td>\n",
       "      <td>0</td>\n",
       "      <td>0</td>\n",
       "      <td>1</td>\n",
       "      <td>123</td>\n",
       "      <td>27.47</td>\n",
       "      <td>103</td>\n",
       "      <td>16.62</td>\n",
       "      <td>103</td>\n",
       "      <td>11.45</td>\n",
       "      <td>3</td>\n",
       "      <td>3.70</td>\n",
       "    </tr>\n",
       "    <tr>\n",
       "      <th>2</th>\n",
       "      <td>137</td>\n",
       "      <td>0</td>\n",
       "      <td>243.4</td>\n",
       "      <td>121.2</td>\n",
       "      <td>162.6</td>\n",
       "      <td>12.2</td>\n",
       "      <td>0</td>\n",
       "      <td>0</td>\n",
       "      <td>0</td>\n",
       "      <td>0</td>\n",
       "      <td>114</td>\n",
       "      <td>41.38</td>\n",
       "      <td>110</td>\n",
       "      <td>10.30</td>\n",
       "      <td>104</td>\n",
       "      <td>7.32</td>\n",
       "      <td>5</td>\n",
       "      <td>3.29</td>\n",
       "    </tr>\n",
       "  </tbody>\n",
       "</table>\n",
       "</div>"
      ],
      "text/plain": [
       "   Account_Length  Vmail_Message  Day_Mins  Eve_Mins  Night_Mins  Intl_Mins  \\\n",
       "0             128             25     265.1     197.4       244.7       10.0   \n",
       "1             107             26     161.6     195.5       254.4       13.7   \n",
       "2             137              0     243.4     121.2       162.6       12.2   \n",
       "\n",
       "   CustServ_Calls  Churn  Intl_Plan  Vmail_Plan  Day_Calls  Day_Charge  \\\n",
       "0               1      0          0           1        110       45.07   \n",
       "1               1      0          0           1        123       27.47   \n",
       "2               0      0          0           0        114       41.38   \n",
       "\n",
       "   Eve_Calls  Eve_Charge  Night_Calls  Night_Charge  Intl_Calls  Intl_Charge  \n",
       "0         99       16.78           91         11.01           3         2.70  \n",
       "1        103       16.62          103         11.45           3         3.70  \n",
       "2        110       10.30          104          7.32           5         3.29  "
      ]
     },
     "execution_count": 64,
     "metadata": {},
     "output_type": "execute_result"
    }
   ],
   "source": [
    "telco = telco.drop(['Area_Code','State'], axis = 1)\n",
    "telco.head(3)"
   ]
  },
  {
   "cell_type": "code",
   "execution_count": 69,
   "id": "4c65d41b",
   "metadata": {},
   "outputs": [
    {
     "data": {
      "text/plain": [
       "0    5.881961\n",
       "1    5.882781\n",
       "2    5.882069\n",
       "3    5.882122\n",
       "4    5.882145\n",
       "Name: Day_Cost, dtype: float64"
      ]
     },
     "execution_count": 69,
     "metadata": {},
     "output_type": "execute_result"
    }
   ],
   "source": [
    "telco['Day_Cost'] = telco['Day_Mins'] / telco['Day_Charge']\n",
    "telco['Day_Cost'].head()"
   ]
  },
  {
   "cell_type": "code",
   "execution_count": 70,
   "id": "9f705903",
   "metadata": {},
   "outputs": [],
   "source": [
    "telco['Eve_Cost'] = telco['Eve_Mins'] / telco['Eve_Charge']\n",
    "telco['Night_Cost'] = telco['Night_Mins'] / telco['Night_Charge']\n",
    "telco['Intl_Cost'] = telco['Intl_Mins'] / telco['Intl_Charge']"
   ]
  },
  {
   "cell_type": "code",
   "execution_count": 68,
   "id": "1caf8f43",
   "metadata": {},
   "outputs": [
    {
     "name": "stdout",
     "output_type": "stream",
     "text": [
      "0    2.689011\n",
      "1    2.469903\n",
      "2    1.563462\n",
      "3    2.212360\n",
      "4    1.544628\n",
      "Name: Avg_Night_Calls, dtype: float64\n"
     ]
    }
   ],
   "source": [
    "# Create the new feature\n",
    "telco['Avg_Night_Calls'] = telco['Night_Mins']/telco['Night_Calls']\n",
    "\n",
    "# Print the first five rows of 'Avg_Night_Calls'\n",
    "print(telco['Avg_Night_Calls'].head())"
   ]
  },
  {
   "cell_type": "code",
   "execution_count": 71,
   "id": "a3eb5216",
   "metadata": {},
   "outputs": [],
   "source": [
    "telco['Avg_Day_Calls'] = telco['Day_Mins']/telco['Day_Calls']\n",
    "telco['Avg_Eve_Calls'] = telco['Eve_Mins']/telco['Eve_Calls']\n",
    "telco['Avg_Intl_Calls'] = telco['Intl_Mins']/telco['Intl_Calls']"
   ]
  },
  {
   "cell_type": "code",
   "execution_count": 72,
   "id": "e4b1a04a",
   "metadata": {},
   "outputs": [
    {
     "data": {
      "text/html": [
       "<div>\n",
       "<style scoped>\n",
       "    .dataframe tbody tr th:only-of-type {\n",
       "        vertical-align: middle;\n",
       "    }\n",
       "\n",
       "    .dataframe tbody tr th {\n",
       "        vertical-align: top;\n",
       "    }\n",
       "\n",
       "    .dataframe thead th {\n",
       "        text-align: right;\n",
       "    }\n",
       "</style>\n",
       "<table border=\"1\" class=\"dataframe\">\n",
       "  <thead>\n",
       "    <tr style=\"text-align: right;\">\n",
       "      <th></th>\n",
       "      <th>Account_Length</th>\n",
       "      <th>Vmail_Message</th>\n",
       "      <th>Intl_Mins</th>\n",
       "      <th>CustServ_Calls</th>\n",
       "      <th>Churn</th>\n",
       "      <th>Intl_Plan</th>\n",
       "      <th>Intl_Calls</th>\n",
       "      <th>Intl_Charge</th>\n",
       "      <th>Day_Cost</th>\n",
       "      <th>Avg_Night_Calls</th>\n",
       "      <th>Eve_Cost</th>\n",
       "      <th>Night_Cost</th>\n",
       "      <th>Intl_Cost</th>\n",
       "      <th>Avg_Day_Calls</th>\n",
       "      <th>Avg_Eve_Calls</th>\n",
       "      <th>Avg_Intl_Calls</th>\n",
       "    </tr>\n",
       "  </thead>\n",
       "  <tbody>\n",
       "    <tr>\n",
       "      <th>0</th>\n",
       "      <td>128</td>\n",
       "      <td>25</td>\n",
       "      <td>10.0</td>\n",
       "      <td>1</td>\n",
       "      <td>0</td>\n",
       "      <td>0</td>\n",
       "      <td>3</td>\n",
       "      <td>2.70</td>\n",
       "      <td>5.881961</td>\n",
       "      <td>2.689011</td>\n",
       "      <td>11.764005</td>\n",
       "      <td>22.225250</td>\n",
       "      <td>3.703704</td>\n",
       "      <td>2.410000</td>\n",
       "      <td>1.993939</td>\n",
       "      <td>3.333333</td>\n",
       "    </tr>\n",
       "    <tr>\n",
       "      <th>1</th>\n",
       "      <td>107</td>\n",
       "      <td>26</td>\n",
       "      <td>13.7</td>\n",
       "      <td>1</td>\n",
       "      <td>0</td>\n",
       "      <td>0</td>\n",
       "      <td>3</td>\n",
       "      <td>3.70</td>\n",
       "      <td>5.882781</td>\n",
       "      <td>2.469903</td>\n",
       "      <td>11.762936</td>\n",
       "      <td>22.218341</td>\n",
       "      <td>3.702703</td>\n",
       "      <td>1.313821</td>\n",
       "      <td>1.898058</td>\n",
       "      <td>4.566667</td>\n",
       "    </tr>\n",
       "    <tr>\n",
       "      <th>2</th>\n",
       "      <td>137</td>\n",
       "      <td>0</td>\n",
       "      <td>12.2</td>\n",
       "      <td>0</td>\n",
       "      <td>0</td>\n",
       "      <td>0</td>\n",
       "      <td>5</td>\n",
       "      <td>3.29</td>\n",
       "      <td>5.882069</td>\n",
       "      <td>1.563462</td>\n",
       "      <td>11.766990</td>\n",
       "      <td>22.213115</td>\n",
       "      <td>3.708207</td>\n",
       "      <td>2.135088</td>\n",
       "      <td>1.101818</td>\n",
       "      <td>2.440000</td>\n",
       "    </tr>\n",
       "  </tbody>\n",
       "</table>\n",
       "</div>"
      ],
      "text/plain": [
       "   Account_Length  Vmail_Message  Intl_Mins  CustServ_Calls  Churn  Intl_Plan  \\\n",
       "0             128             25       10.0               1      0          0   \n",
       "1             107             26       13.7               1      0          0   \n",
       "2             137              0       12.2               0      0          0   \n",
       "\n",
       "   Intl_Calls  Intl_Charge  Day_Cost  Avg_Night_Calls   Eve_Cost  Night_Cost  \\\n",
       "0           3         2.70  5.881961         2.689011  11.764005   22.225250   \n",
       "1           3         3.70  5.882781         2.469903  11.762936   22.218341   \n",
       "2           5         3.29  5.882069         1.563462  11.766990   22.213115   \n",
       "\n",
       "   Intl_Cost  Avg_Day_Calls  Avg_Eve_Calls  Avg_Intl_Calls  \n",
       "0   3.703704       2.410000       1.993939        3.333333  \n",
       "1   3.702703       1.313821       1.898058        4.566667  \n",
       "2   3.708207       2.135088       1.101818        2.440000  "
      ]
     },
     "execution_count": 72,
     "metadata": {},
     "output_type": "execute_result"
    }
   ],
   "source": [
    "telco = telco.drop(['Vmail_Plan', \n",
    "                    'Day_Charge', 'Day_Mins', 'Day_Calls',\n",
    "                   'Eve_Charge', 'Eve_Mins', 'Eve_Calls',\n",
    "                   'Night_Charge', 'Night_Mins', 'Night_Calls'],\n",
    "                  axis = 1)\n",
    "telco.head(3)"
   ]
  },
  {
   "cell_type": "code",
   "execution_count": 74,
   "id": "de41df75",
   "metadata": {},
   "outputs": [
    {
     "data": {
      "text/plain": [
       "(3333, 13)"
      ]
     },
     "execution_count": 74,
     "metadata": {},
     "output_type": "execute_result"
    }
   ],
   "source": [
    "telco = telco.drop(['Intl_Mins', 'Intl_Calls','Intl_Charge'], axis = 1)\n",
    "telco.shape"
   ]
  },
  {
   "cell_type": "code",
   "execution_count": 75,
   "id": "f1e5201b",
   "metadata": {},
   "outputs": [],
   "source": [
    "telco.to_csv('/QXJ/Python/Datacamp/Marketing/telco_processed.csv')"
   ]
  },
  {
   "cell_type": "code",
   "execution_count": 141,
   "id": "38a24667",
   "metadata": {},
   "outputs": [
    {
     "data": {
      "text/html": [
       "<div>\n",
       "<style scoped>\n",
       "    .dataframe tbody tr th:only-of-type {\n",
       "        vertical-align: middle;\n",
       "    }\n",
       "\n",
       "    .dataframe tbody tr th {\n",
       "        vertical-align: top;\n",
       "    }\n",
       "\n",
       "    .dataframe thead th {\n",
       "        text-align: right;\n",
       "    }\n",
       "</style>\n",
       "<table border=\"1\" class=\"dataframe\">\n",
       "  <thead>\n",
       "    <tr style=\"text-align: right;\">\n",
       "      <th></th>\n",
       "      <th>Account_Length</th>\n",
       "      <th>Vmail_Message</th>\n",
       "      <th>CustServ_Calls</th>\n",
       "      <th>Churn</th>\n",
       "      <th>Intl_Plan</th>\n",
       "      <th>Day_Cost</th>\n",
       "      <th>Avg_Night_Calls</th>\n",
       "      <th>Eve_Cost</th>\n",
       "      <th>Night_Cost</th>\n",
       "      <th>Intl_Cost</th>\n",
       "      <th>Avg_Day_Calls</th>\n",
       "      <th>Avg_Eve_Calls</th>\n",
       "      <th>Avg_Intl_Calls</th>\n",
       "    </tr>\n",
       "  </thead>\n",
       "  <tbody>\n",
       "    <tr>\n",
       "      <th>0</th>\n",
       "      <td>128</td>\n",
       "      <td>25</td>\n",
       "      <td>1</td>\n",
       "      <td>0</td>\n",
       "      <td>0</td>\n",
       "      <td>5.881961</td>\n",
       "      <td>2.689011</td>\n",
       "      <td>11.764005</td>\n",
       "      <td>22.225250</td>\n",
       "      <td>3.703704</td>\n",
       "      <td>2.410000</td>\n",
       "      <td>1.993939</td>\n",
       "      <td>3.333333</td>\n",
       "    </tr>\n",
       "    <tr>\n",
       "      <th>1</th>\n",
       "      <td>107</td>\n",
       "      <td>26</td>\n",
       "      <td>1</td>\n",
       "      <td>0</td>\n",
       "      <td>0</td>\n",
       "      <td>5.882781</td>\n",
       "      <td>2.469903</td>\n",
       "      <td>11.762936</td>\n",
       "      <td>22.218341</td>\n",
       "      <td>3.702703</td>\n",
       "      <td>1.313821</td>\n",
       "      <td>1.898058</td>\n",
       "      <td>4.566667</td>\n",
       "    </tr>\n",
       "  </tbody>\n",
       "</table>\n",
       "</div>"
      ],
      "text/plain": [
       "   Account_Length  Vmail_Message  CustServ_Calls  Churn  Intl_Plan  Day_Cost  \\\n",
       "0             128             25               1      0          0  5.881961   \n",
       "1             107             26               1      0          0  5.882781   \n",
       "\n",
       "   Avg_Night_Calls   Eve_Cost  Night_Cost  Intl_Cost  Avg_Day_Calls  \\\n",
       "0         2.689011  11.764005   22.225250   3.703704       2.410000   \n",
       "1         2.469903  11.762936   22.218341   3.702703       1.313821   \n",
       "\n",
       "   Avg_Eve_Calls  Avg_Intl_Calls  \n",
       "0       1.993939        3.333333  \n",
       "1       1.898058        4.566667  "
      ]
     },
     "execution_count": 141,
     "metadata": {},
     "output_type": "execute_result"
    }
   ],
   "source": [
    "telco = pd.read_csv('/QXJ/Python/Datacamp/Marketing/telco_processed.csv',index_col = 0)\n",
    "telco.head(2)"
   ]
  },
  {
   "cell_type": "code",
   "execution_count": 142,
   "id": "db63d59f",
   "metadata": {},
   "outputs": [
    {
     "data": {
      "text/html": [
       "<div>\n",
       "<style scoped>\n",
       "    .dataframe tbody tr th:only-of-type {\n",
       "        vertical-align: middle;\n",
       "    }\n",
       "\n",
       "    .dataframe tbody tr th {\n",
       "        vertical-align: top;\n",
       "    }\n",
       "\n",
       "    .dataframe thead th {\n",
       "        text-align: right;\n",
       "    }\n",
       "</style>\n",
       "<table border=\"1\" class=\"dataframe\">\n",
       "  <thead>\n",
       "    <tr style=\"text-align: right;\">\n",
       "      <th></th>\n",
       "      <th>Account_Length</th>\n",
       "      <th>Vmail_Message</th>\n",
       "      <th>CustServ_Calls</th>\n",
       "      <th>Churn</th>\n",
       "      <th>Intl_Plan</th>\n",
       "      <th>Day_Cost</th>\n",
       "      <th>Avg_Night_Calls</th>\n",
       "      <th>Eve_Cost</th>\n",
       "      <th>Night_Cost</th>\n",
       "      <th>Intl_Cost</th>\n",
       "      <th>Avg_Day_Calls</th>\n",
       "      <th>Avg_Eve_Calls</th>\n",
       "      <th>Avg_Intl_Calls</th>\n",
       "    </tr>\n",
       "  </thead>\n",
       "  <tbody>\n",
       "    <tr>\n",
       "      <th>count</th>\n",
       "      <td>3333.000000</td>\n",
       "      <td>3333.000000</td>\n",
       "      <td>3333.000000</td>\n",
       "      <td>3333.000000</td>\n",
       "      <td>3333.000000</td>\n",
       "      <td>3331.000000</td>\n",
       "      <td>3333.000000</td>\n",
       "      <td>3332.000000</td>\n",
       "      <td>3333.000000</td>\n",
       "      <td>3315.000000</td>\n",
       "      <td>3331.000000</td>\n",
       "      <td>3332.000000</td>\n",
       "      <td>3315.000000</td>\n",
       "    </tr>\n",
       "    <tr>\n",
       "      <th>mean</th>\n",
       "      <td>101.064806</td>\n",
       "      <td>8.099010</td>\n",
       "      <td>1.562856</td>\n",
       "      <td>0.144914</td>\n",
       "      <td>0.096910</td>\n",
       "      <td>5.882241</td>\n",
       "      <td>2.091748</td>\n",
       "      <td>11.764544</td>\n",
       "      <td>22.222055</td>\n",
       "      <td>3.702934</td>\n",
       "      <td>1.872544</td>\n",
       "      <td>2.103754</td>\n",
       "      <td>3.112385</td>\n",
       "    </tr>\n",
       "    <tr>\n",
       "      <th>std</th>\n",
       "      <td>39.822106</td>\n",
       "      <td>13.688365</td>\n",
       "      <td>1.315491</td>\n",
       "      <td>0.352067</td>\n",
       "      <td>0.295879</td>\n",
       "      <td>0.000960</td>\n",
       "      <td>0.709582</td>\n",
       "      <td>0.002264</td>\n",
       "      <td>0.008177</td>\n",
       "      <td>0.004508</td>\n",
       "      <td>0.731555</td>\n",
       "      <td>0.775645</td>\n",
       "      <td>2.260809</td>\n",
       "    </tr>\n",
       "    <tr>\n",
       "      <th>min</th>\n",
       "      <td>1.000000</td>\n",
       "      <td>0.000000</td>\n",
       "      <td>0.000000</td>\n",
       "      <td>0.000000</td>\n",
       "      <td>0.000000</td>\n",
       "      <td>5.864662</td>\n",
       "      <td>0.227451</td>\n",
       "      <td>11.754386</td>\n",
       "      <td>22.167488</td>\n",
       "      <td>3.666667</td>\n",
       "      <td>0.023009</td>\n",
       "      <td>0.271304</td>\n",
       "      <td>0.216667</td>\n",
       "    </tr>\n",
       "    <tr>\n",
       "      <th>25%</th>\n",
       "      <td>74.000000</td>\n",
       "      <td>0.000000</td>\n",
       "      <td>1.000000</td>\n",
       "      <td>0.000000</td>\n",
       "      <td>0.000000</td>\n",
       "      <td>5.881773</td>\n",
       "      <td>1.608397</td>\n",
       "      <td>11.762841</td>\n",
       "      <td>22.215973</td>\n",
       "      <td>3.699634</td>\n",
       "      <td>1.379718</td>\n",
       "      <td>1.615704</td>\n",
       "      <td>1.685714</td>\n",
       "    </tr>\n",
       "    <tr>\n",
       "      <th>50%</th>\n",
       "      <td>101.000000</td>\n",
       "      <td>0.000000</td>\n",
       "      <td>1.000000</td>\n",
       "      <td>0.000000</td>\n",
       "      <td>0.000000</td>\n",
       "      <td>5.882209</td>\n",
       "      <td>2.005607</td>\n",
       "      <td>11.764706</td>\n",
       "      <td>22.222222</td>\n",
       "      <td>3.703704</td>\n",
       "      <td>1.790909</td>\n",
       "      <td>1.985416</td>\n",
       "      <td>2.460000</td>\n",
       "    </tr>\n",
       "    <tr>\n",
       "      <th>75%</th>\n",
       "      <td>127.000000</td>\n",
       "      <td>20.000000</td>\n",
       "      <td>2.000000</td>\n",
       "      <td>0.000000</td>\n",
       "      <td>0.000000</td>\n",
       "      <td>5.882730</td>\n",
       "      <td>2.461538</td>\n",
       "      <td>11.766304</td>\n",
       "      <td>22.228033</td>\n",
       "      <td>3.706294</td>\n",
       "      <td>2.262195</td>\n",
       "      <td>2.486849</td>\n",
       "      <td>3.800000</td>\n",
       "    </tr>\n",
       "    <tr>\n",
       "      <th>max</th>\n",
       "      <td>243.000000</td>\n",
       "      <td>51.000000</td>\n",
       "      <td>9.000000</td>\n",
       "      <td>1.000000</td>\n",
       "      <td>1.000000</td>\n",
       "      <td>5.909091</td>\n",
       "      <td>7.124242</td>\n",
       "      <td>11.773585</td>\n",
       "      <td>22.307692</td>\n",
       "      <td>3.728814</td>\n",
       "      <td>7.223333</td>\n",
       "      <td>15.608333</td>\n",
       "      <td>18.200000</td>\n",
       "    </tr>\n",
       "  </tbody>\n",
       "</table>\n",
       "</div>"
      ],
      "text/plain": [
       "       Account_Length  Vmail_Message  CustServ_Calls        Churn  \\\n",
       "count     3333.000000    3333.000000     3333.000000  3333.000000   \n",
       "mean       101.064806       8.099010        1.562856     0.144914   \n",
       "std         39.822106      13.688365        1.315491     0.352067   \n",
       "min          1.000000       0.000000        0.000000     0.000000   \n",
       "25%         74.000000       0.000000        1.000000     0.000000   \n",
       "50%        101.000000       0.000000        1.000000     0.000000   \n",
       "75%        127.000000      20.000000        2.000000     0.000000   \n",
       "max        243.000000      51.000000        9.000000     1.000000   \n",
       "\n",
       "         Intl_Plan     Day_Cost  Avg_Night_Calls     Eve_Cost   Night_Cost  \\\n",
       "count  3333.000000  3331.000000      3333.000000  3332.000000  3333.000000   \n",
       "mean      0.096910     5.882241         2.091748    11.764544    22.222055   \n",
       "std       0.295879     0.000960         0.709582     0.002264     0.008177   \n",
       "min       0.000000     5.864662         0.227451    11.754386    22.167488   \n",
       "25%       0.000000     5.881773         1.608397    11.762841    22.215973   \n",
       "50%       0.000000     5.882209         2.005607    11.764706    22.222222   \n",
       "75%       0.000000     5.882730         2.461538    11.766304    22.228033   \n",
       "max       1.000000     5.909091         7.124242    11.773585    22.307692   \n",
       "\n",
       "         Intl_Cost  Avg_Day_Calls  Avg_Eve_Calls  Avg_Intl_Calls  \n",
       "count  3315.000000    3331.000000    3332.000000     3315.000000  \n",
       "mean      3.702934       1.872544       2.103754        3.112385  \n",
       "std       0.004508       0.731555       0.775645        2.260809  \n",
       "min       3.666667       0.023009       0.271304        0.216667  \n",
       "25%       3.699634       1.379718       1.615704        1.685714  \n",
       "50%       3.703704       1.790909       1.985416        2.460000  \n",
       "75%       3.706294       2.262195       2.486849        3.800000  \n",
       "max       3.728814       7.223333      15.608333       18.200000  "
      ]
     },
     "execution_count": 142,
     "metadata": {},
     "output_type": "execute_result"
    }
   ],
   "source": [
    "telco.describe()"
   ]
  },
  {
   "cell_type": "code",
   "execution_count": 143,
   "id": "dbabfedb",
   "metadata": {},
   "outputs": [
    {
     "data": {
      "text/html": [
       "<div>\n",
       "<style scoped>\n",
       "    .dataframe tbody tr th:only-of-type {\n",
       "        vertical-align: middle;\n",
       "    }\n",
       "\n",
       "    .dataframe tbody tr th {\n",
       "        vertical-align: top;\n",
       "    }\n",
       "\n",
       "    .dataframe thead th {\n",
       "        text-align: right;\n",
       "    }\n",
       "</style>\n",
       "<table border=\"1\" class=\"dataframe\">\n",
       "  <thead>\n",
       "    <tr style=\"text-align: right;\">\n",
       "      <th></th>\n",
       "      <th>Account_Length</th>\n",
       "      <th>Vmail_Message</th>\n",
       "      <th>CustServ_Calls</th>\n",
       "      <th>Intl_Plan</th>\n",
       "      <th>Day_Cost</th>\n",
       "      <th>Avg_Night_Calls</th>\n",
       "      <th>Eve_Cost</th>\n",
       "      <th>Night_Cost</th>\n",
       "      <th>Intl_Cost</th>\n",
       "      <th>Avg_Day_Calls</th>\n",
       "      <th>Avg_Eve_Calls</th>\n",
       "      <th>Avg_Intl_Calls</th>\n",
       "    </tr>\n",
       "  </thead>\n",
       "  <tbody>\n",
       "    <tr>\n",
       "      <th>count</th>\n",
       "      <td>3.333000e+03</td>\n",
       "      <td>3.333000e+03</td>\n",
       "      <td>3.333000e+03</td>\n",
       "      <td>3.333000e+03</td>\n",
       "      <td>3.331000e+03</td>\n",
       "      <td>3.333000e+03</td>\n",
       "      <td>3.332000e+03</td>\n",
       "      <td>3.333000e+03</td>\n",
       "      <td>3.315000e+03</td>\n",
       "      <td>3.331000e+03</td>\n",
       "      <td>3.332000e+03</td>\n",
       "      <td>3.315000e+03</td>\n",
       "    </tr>\n",
       "    <tr>\n",
       "      <th>mean</th>\n",
       "      <td>1.713134e-16</td>\n",
       "      <td>3.832651e-16</td>\n",
       "      <td>3.275708e-16</td>\n",
       "      <td>-1.021951e-16</td>\n",
       "      <td>-6.343296e-13</td>\n",
       "      <td>-3.921256e-16</td>\n",
       "      <td>6.895047e-13</td>\n",
       "      <td>3.273323e-14</td>\n",
       "      <td>9.683809e-15</td>\n",
       "      <td>-3.842952e-17</td>\n",
       "      <td>1.272825e-17</td>\n",
       "      <td>-1.234893e-16</td>\n",
       "    </tr>\n",
       "    <tr>\n",
       "      <th>std</th>\n",
       "      <td>1.000150e+00</td>\n",
       "      <td>1.000150e+00</td>\n",
       "      <td>1.000150e+00</td>\n",
       "      <td>1.000150e+00</td>\n",
       "      <td>1.000150e+00</td>\n",
       "      <td>1.000150e+00</td>\n",
       "      <td>1.000150e+00</td>\n",
       "      <td>1.000150e+00</td>\n",
       "      <td>1.000151e+00</td>\n",
       "      <td>1.000150e+00</td>\n",
       "      <td>1.000150e+00</td>\n",
       "      <td>1.000151e+00</td>\n",
       "    </tr>\n",
       "    <tr>\n",
       "      <th>min</th>\n",
       "      <td>-2.513172e+00</td>\n",
       "      <td>-5.917599e-01</td>\n",
       "      <td>-1.188218e+00</td>\n",
       "      <td>-3.275805e-01</td>\n",
       "      <td>-1.831840e+01</td>\n",
       "      <td>-2.627713e+00</td>\n",
       "      <td>-4.486953e+00</td>\n",
       "      <td>-6.674367e+00</td>\n",
       "      <td>-8.046175e+00</td>\n",
       "      <td>-2.528604e+00</td>\n",
       "      <td>-2.362841e+00</td>\n",
       "      <td>-1.281026e+00</td>\n",
       "    </tr>\n",
       "    <tr>\n",
       "      <th>25%</th>\n",
       "      <td>-6.797448e-01</td>\n",
       "      <td>-5.917599e-01</td>\n",
       "      <td>-4.279320e-01</td>\n",
       "      <td>-3.275805e-01</td>\n",
       "      <td>-4.874468e-01</td>\n",
       "      <td>-6.812800e-01</td>\n",
       "      <td>-7.523006e-01</td>\n",
       "      <td>-7.438627e-01</td>\n",
       "      <td>-7.321345e-01</td>\n",
       "      <td>-6.737704e-01</td>\n",
       "      <td>-6.293129e-01</td>\n",
       "      <td>-6.311395e-01</td>\n",
       "    </tr>\n",
       "    <tr>\n",
       "      <th>50%</th>\n",
       "      <td>-1.627644e-03</td>\n",
       "      <td>-5.917599e-01</td>\n",
       "      <td>-4.279320e-01</td>\n",
       "      <td>-3.275805e-01</td>\n",
       "      <td>-3.334096e-02</td>\n",
       "      <td>-1.214148e-01</td>\n",
       "      <td>7.151973e-02</td>\n",
       "      <td>2.051332e-02</td>\n",
       "      <td>1.708335e-01</td>\n",
       "      <td>-1.116081e-01</td>\n",
       "      <td>-1.525904e-01</td>\n",
       "      <td>-2.886061e-01</td>\n",
       "    </tr>\n",
       "    <tr>\n",
       "      <th>75%</th>\n",
       "      <td>6.513740e-01</td>\n",
       "      <td>8.695542e-01</td>\n",
       "      <td>3.323545e-01</td>\n",
       "      <td>-3.275805e-01</td>\n",
       "      <td>5.096071e-01</td>\n",
       "      <td>5.212164e-01</td>\n",
       "      <td>7.775875e-01</td>\n",
       "      <td>7.313191e-01</td>\n",
       "      <td>7.454494e-01</td>\n",
       "      <td>5.327141e-01</td>\n",
       "      <td>4.939792e-01</td>\n",
       "      <td>3.041915e-01</td>\n",
       "    </tr>\n",
       "    <tr>\n",
       "      <th>max</th>\n",
       "      <td>3.564766e+00</td>\n",
       "      <td>3.134591e+00</td>\n",
       "      <td>5.654360e+00</td>\n",
       "      <td>3.052685e+00</td>\n",
       "      <td>2.797821e+01</td>\n",
       "      <td>7.093262e+00</td>\n",
       "      <td>3.993526e+00</td>\n",
       "      <td>1.047483e+01</td>\n",
       "      <td>5.741687e+00</td>\n",
       "      <td>7.315365e+00</td>\n",
       "      <td>1.741340e+01</td>\n",
       "      <td>6.674554e+00</td>\n",
       "    </tr>\n",
       "  </tbody>\n",
       "</table>\n",
       "</div>"
      ],
      "text/plain": [
       "       Account_Length  Vmail_Message  CustServ_Calls     Intl_Plan  \\\n",
       "count    3.333000e+03   3.333000e+03    3.333000e+03  3.333000e+03   \n",
       "mean     1.713134e-16   3.832651e-16    3.275708e-16 -1.021951e-16   \n",
       "std      1.000150e+00   1.000150e+00    1.000150e+00  1.000150e+00   \n",
       "min     -2.513172e+00  -5.917599e-01   -1.188218e+00 -3.275805e-01   \n",
       "25%     -6.797448e-01  -5.917599e-01   -4.279320e-01 -3.275805e-01   \n",
       "50%     -1.627644e-03  -5.917599e-01   -4.279320e-01 -3.275805e-01   \n",
       "75%      6.513740e-01   8.695542e-01    3.323545e-01 -3.275805e-01   \n",
       "max      3.564766e+00   3.134591e+00    5.654360e+00  3.052685e+00   \n",
       "\n",
       "           Day_Cost  Avg_Night_Calls      Eve_Cost    Night_Cost  \\\n",
       "count  3.331000e+03     3.333000e+03  3.332000e+03  3.333000e+03   \n",
       "mean  -6.343296e-13    -3.921256e-16  6.895047e-13  3.273323e-14   \n",
       "std    1.000150e+00     1.000150e+00  1.000150e+00  1.000150e+00   \n",
       "min   -1.831840e+01    -2.627713e+00 -4.486953e+00 -6.674367e+00   \n",
       "25%   -4.874468e-01    -6.812800e-01 -7.523006e-01 -7.438627e-01   \n",
       "50%   -3.334096e-02    -1.214148e-01  7.151973e-02  2.051332e-02   \n",
       "75%    5.096071e-01     5.212164e-01  7.775875e-01  7.313191e-01   \n",
       "max    2.797821e+01     7.093262e+00  3.993526e+00  1.047483e+01   \n",
       "\n",
       "          Intl_Cost  Avg_Day_Calls  Avg_Eve_Calls  Avg_Intl_Calls  \n",
       "count  3.315000e+03   3.331000e+03   3.332000e+03    3.315000e+03  \n",
       "mean   9.683809e-15  -3.842952e-17   1.272825e-17   -1.234893e-16  \n",
       "std    1.000151e+00   1.000150e+00   1.000150e+00    1.000151e+00  \n",
       "min   -8.046175e+00  -2.528604e+00  -2.362841e+00   -1.281026e+00  \n",
       "25%   -7.321345e-01  -6.737704e-01  -6.293129e-01   -6.311395e-01  \n",
       "50%    1.708335e-01  -1.116081e-01  -1.525904e-01   -2.886061e-01  \n",
       "75%    7.454494e-01   5.327141e-01   4.939792e-01    3.041915e-01  \n",
       "max    5.741687e+00   7.315365e+00   1.741340e+01    6.674554e+00  "
      ]
     },
     "execution_count": 143,
     "metadata": {},
     "output_type": "execute_result"
    }
   ],
   "source": [
    "from sklearn.preprocessing import StandardScaler\n",
    "scaler = StandardScaler()\n",
    "telco_scaled = scaler.fit_transform(telco.drop('Churn',axis = 1))\n",
    "telco_scaled = pd.DataFrame(telco_scaled,  columns = telco.drop('Churn',axis = 1).columns)\n",
    "telco_scaled.describe()"
   ]
  },
  {
   "cell_type": "code",
   "execution_count": 113,
   "id": "d3fa4c76",
   "metadata": {},
   "outputs": [],
   "source": [
    "telco_scaled.to_csv('/QXJ/Python/Datacamp/Marketing/telco_scaled_x.csv')"
   ]
  },
  {
   "cell_type": "code",
   "execution_count": 77,
   "id": "74516a01",
   "metadata": {},
   "outputs": [
    {
     "data": {
      "text/plain": [
       "(3333, 50)"
      ]
     },
     "execution_count": 77,
     "metadata": {},
     "output_type": "execute_result"
    }
   ],
   "source": [
    "telco_state.shape"
   ]
  },
  {
   "cell_type": "code",
   "execution_count": 145,
   "id": "b9f04710",
   "metadata": {},
   "outputs": [
    {
     "data": {
      "text/plain": [
       "(3333, 63)"
      ]
     },
     "execution_count": 145,
     "metadata": {},
     "output_type": "execute_result"
    }
   ],
   "source": [
    "df = telco_scaled.merge(telco_state, how = 'left',\n",
    "                left_index = True,\n",
    "                right_index = True).merge(\n",
    "telco[['Churn']],  how = 'left',\n",
    "                left_index = True,\n",
    "                right_index = True)\n",
    "df.shape"
   ]
  },
  {
   "cell_type": "code",
   "execution_count": 146,
   "id": "0517f5d9",
   "metadata": {},
   "outputs": [
    {
     "data": {
      "text/plain": [
       "(3312, 63)"
      ]
     },
     "execution_count": 146,
     "metadata": {},
     "output_type": "execute_result"
    }
   ],
   "source": [
    "df = df.dropna()\n",
    "df.shape"
   ]
  },
  {
   "cell_type": "code",
   "execution_count": 147,
   "id": "53156639",
   "metadata": {},
   "outputs": [],
   "source": [
    "df.to_csv('/QXJ/Python/Datacamp/Marketing/telco_dataset.csv')"
   ]
  },
  {
   "cell_type": "code",
   "execution_count": 169,
   "id": "58a08fe3",
   "metadata": {},
   "outputs": [
    {
     "name": "stdout",
     "output_type": "stream",
     "text": [
      "   Account_Length  Vmail_Message  CustServ_Calls  Intl_Plan  Day_Cost  \\\n",
      "0        0.676489       1.234883       -0.427932   -0.32758 -0.291551   \n",
      "1        0.149065       1.307948       -0.427932   -0.32758  0.562728   \n",
      "2        0.902529      -0.591760       -1.188218   -0.32758 -0.179805   \n",
      "\n",
      "   Avg_Night_Calls  Eve_Cost  Night_Cost  Intl_Cost  Avg_Day_Calls  ...  SD  \\\n",
      "0         0.841837 -0.238174    0.390830   0.170833       0.734786  ...   0   \n",
      "1         0.533006 -0.710168   -0.454268  -0.051248      -0.763862  ...   0   \n",
      "2        -0.744616  1.080580   -1.093471   1.169862       0.358938  ...   0   \n",
      "\n",
      "   TN  TX  UT  VA  VT  WA  WI  WV  WY  \n",
      "0   0   0   0   0   0   0   0   0   0  \n",
      "1   0   0   0   0   0   0   0   0   0  \n",
      "2   0   0   0   0   0   0   0   0   0  \n",
      "\n",
      "[3 rows x 62 columns]\n",
      "   Churn\n",
      "0      0\n",
      "1      0\n",
      "2      0\n"
     ]
    }
   ],
   "source": [
    "target = ['Churn']\n",
    "features = [col for col in df.columns if col not in target]\n",
    "\n",
    "y = df[target]\n",
    "X = df[features]\n",
    "print(X.head(3))\n",
    "print(y.head(3))"
   ]
  },
  {
   "cell_type": "code",
   "execution_count": 179,
   "id": "cc3dcabe",
   "metadata": {},
   "outputs": [
    {
     "data": {
      "text/plain": [
       "numpy.ndarray"
      ]
     },
     "execution_count": 179,
     "metadata": {},
     "output_type": "execute_result"
    }
   ],
   "source": [
    "y = y.to_numpy().reshape(3312,)\n",
    "type(y)"
   ]
  },
  {
   "cell_type": "code",
   "execution_count": 149,
   "id": "a730db51",
   "metadata": {},
   "outputs": [
    {
     "data": {
      "text/html": [
       "<div>\n",
       "<style scoped>\n",
       "    .dataframe tbody tr th:only-of-type {\n",
       "        vertical-align: middle;\n",
       "    }\n",
       "\n",
       "    .dataframe tbody tr th {\n",
       "        vertical-align: top;\n",
       "    }\n",
       "\n",
       "    .dataframe thead th {\n",
       "        text-align: right;\n",
       "    }\n",
       "</style>\n",
       "<table border=\"1\" class=\"dataframe\">\n",
       "  <thead>\n",
       "    <tr style=\"text-align: right;\">\n",
       "      <th></th>\n",
       "      <th>Account_Length</th>\n",
       "      <th>Vmail_Message</th>\n",
       "      <th>CustServ_Calls</th>\n",
       "      <th>Intl_Plan</th>\n",
       "      <th>Day_Cost</th>\n",
       "      <th>Avg_Night_Calls</th>\n",
       "      <th>Eve_Cost</th>\n",
       "      <th>Night_Cost</th>\n",
       "      <th>Intl_Cost</th>\n",
       "      <th>Avg_Day_Calls</th>\n",
       "      <th>...</th>\n",
       "      <th>SD</th>\n",
       "      <th>TN</th>\n",
       "      <th>TX</th>\n",
       "      <th>UT</th>\n",
       "      <th>VA</th>\n",
       "      <th>VT</th>\n",
       "      <th>WA</th>\n",
       "      <th>WI</th>\n",
       "      <th>WV</th>\n",
       "      <th>WY</th>\n",
       "    </tr>\n",
       "  </thead>\n",
       "  <tbody>\n",
       "    <tr>\n",
       "      <th>count</th>\n",
       "      <td>3312.000000</td>\n",
       "      <td>3312.000000</td>\n",
       "      <td>3312.000000</td>\n",
       "      <td>3312.000000</td>\n",
       "      <td>3312.000000</td>\n",
       "      <td>3312.000000</td>\n",
       "      <td>3312.000000</td>\n",
       "      <td>3312.000000</td>\n",
       "      <td>3312.000000</td>\n",
       "      <td>3312.000000</td>\n",
       "      <td>...</td>\n",
       "      <td>3312.000000</td>\n",
       "      <td>3312.000000</td>\n",
       "      <td>3312.000000</td>\n",
       "      <td>3312.000000</td>\n",
       "      <td>3312.000000</td>\n",
       "      <td>3312.000000</td>\n",
       "      <td>3312.000000</td>\n",
       "      <td>3312.000000</td>\n",
       "      <td>3312.000000</td>\n",
       "      <td>3312.000000</td>\n",
       "    </tr>\n",
       "    <tr>\n",
       "      <th>mean</th>\n",
       "      <td>-0.000248</td>\n",
       "      <td>0.001656</td>\n",
       "      <td>-0.000271</td>\n",
       "      <td>0.002077</td>\n",
       "      <td>0.001117</td>\n",
       "      <td>-0.000301</td>\n",
       "      <td>0.000353</td>\n",
       "      <td>0.001374</td>\n",
       "      <td>0.000184</td>\n",
       "      <td>0.001775</td>\n",
       "      <td>...</td>\n",
       "      <td>0.017814</td>\n",
       "      <td>0.016002</td>\n",
       "      <td>0.021739</td>\n",
       "      <td>0.021437</td>\n",
       "      <td>0.022947</td>\n",
       "      <td>0.021135</td>\n",
       "      <td>0.019928</td>\n",
       "      <td>0.023249</td>\n",
       "      <td>0.032005</td>\n",
       "      <td>0.023249</td>\n",
       "    </tr>\n",
       "    <tr>\n",
       "      <th>std</th>\n",
       "      <td>1.001795</td>\n",
       "      <td>1.001583</td>\n",
       "      <td>1.000789</td>\n",
       "      <td>1.002975</td>\n",
       "      <td>1.001377</td>\n",
       "      <td>1.000933</td>\n",
       "      <td>0.998230</td>\n",
       "      <td>0.999551</td>\n",
       "      <td>0.999573</td>\n",
       "      <td>0.999149</td>\n",
       "      <td>...</td>\n",
       "      <td>0.132295</td>\n",
       "      <td>0.125503</td>\n",
       "      <td>0.145853</td>\n",
       "      <td>0.144858</td>\n",
       "      <td>0.149757</td>\n",
       "      <td>0.143857</td>\n",
       "      <td>0.139772</td>\n",
       "      <td>0.150715</td>\n",
       "      <td>0.176039</td>\n",
       "      <td>0.150715</td>\n",
       "    </tr>\n",
       "    <tr>\n",
       "      <th>min</th>\n",
       "      <td>-2.513172</td>\n",
       "      <td>-0.591760</td>\n",
       "      <td>-1.188218</td>\n",
       "      <td>-0.327580</td>\n",
       "      <td>-18.318395</td>\n",
       "      <td>-2.627713</td>\n",
       "      <td>-4.486953</td>\n",
       "      <td>-6.674367</td>\n",
       "      <td>-8.046175</td>\n",
       "      <td>-2.528604</td>\n",
       "      <td>...</td>\n",
       "      <td>0.000000</td>\n",
       "      <td>0.000000</td>\n",
       "      <td>0.000000</td>\n",
       "      <td>0.000000</td>\n",
       "      <td>0.000000</td>\n",
       "      <td>0.000000</td>\n",
       "      <td>0.000000</td>\n",
       "      <td>0.000000</td>\n",
       "      <td>0.000000</td>\n",
       "      <td>0.000000</td>\n",
       "    </tr>\n",
       "    <tr>\n",
       "      <th>25%</th>\n",
       "      <td>-0.679745</td>\n",
       "      <td>-0.591760</td>\n",
       "      <td>-0.427932</td>\n",
       "      <td>-0.327580</td>\n",
       "      <td>-0.487447</td>\n",
       "      <td>-0.682394</td>\n",
       "      <td>-0.752301</td>\n",
       "      <td>-0.742415</td>\n",
       "      <td>-0.732135</td>\n",
       "      <td>-0.672960</td>\n",
       "      <td>...</td>\n",
       "      <td>0.000000</td>\n",
       "      <td>0.000000</td>\n",
       "      <td>0.000000</td>\n",
       "      <td>0.000000</td>\n",
       "      <td>0.000000</td>\n",
       "      <td>0.000000</td>\n",
       "      <td>0.000000</td>\n",
       "      <td>0.000000</td>\n",
       "      <td>0.000000</td>\n",
       "      <td>0.000000</td>\n",
       "    </tr>\n",
       "    <tr>\n",
       "      <th>50%</th>\n",
       "      <td>-0.001628</td>\n",
       "      <td>-0.591760</td>\n",
       "      <td>-0.427932</td>\n",
       "      <td>-0.327580</td>\n",
       "      <td>-0.032721</td>\n",
       "      <td>-0.121415</td>\n",
       "      <td>0.071520</td>\n",
       "      <td>0.020513</td>\n",
       "      <td>0.170833</td>\n",
       "      <td>-0.110745</td>\n",
       "      <td>...</td>\n",
       "      <td>0.000000</td>\n",
       "      <td>0.000000</td>\n",
       "      <td>0.000000</td>\n",
       "      <td>0.000000</td>\n",
       "      <td>0.000000</td>\n",
       "      <td>0.000000</td>\n",
       "      <td>0.000000</td>\n",
       "      <td>0.000000</td>\n",
       "      <td>0.000000</td>\n",
       "      <td>0.000000</td>\n",
       "    </tr>\n",
       "    <tr>\n",
       "      <th>75%</th>\n",
       "      <td>0.651374</td>\n",
       "      <td>0.869554</td>\n",
       "      <td>0.332354</td>\n",
       "      <td>-0.327580</td>\n",
       "      <td>0.510323</td>\n",
       "      <td>0.523180</td>\n",
       "      <td>0.777587</td>\n",
       "      <td>0.731319</td>\n",
       "      <td>0.745449</td>\n",
       "      <td>0.535215</td>\n",
       "      <td>...</td>\n",
       "      <td>0.000000</td>\n",
       "      <td>0.000000</td>\n",
       "      <td>0.000000</td>\n",
       "      <td>0.000000</td>\n",
       "      <td>0.000000</td>\n",
       "      <td>0.000000</td>\n",
       "      <td>0.000000</td>\n",
       "      <td>0.000000</td>\n",
       "      <td>0.000000</td>\n",
       "      <td>0.000000</td>\n",
       "    </tr>\n",
       "    <tr>\n",
       "      <th>max</th>\n",
       "      <td>3.564766</td>\n",
       "      <td>3.134591</td>\n",
       "      <td>5.654360</td>\n",
       "      <td>3.052685</td>\n",
       "      <td>27.978214</td>\n",
       "      <td>7.093262</td>\n",
       "      <td>3.993526</td>\n",
       "      <td>10.474826</td>\n",
       "      <td>5.741687</td>\n",
       "      <td>7.315365</td>\n",
       "      <td>...</td>\n",
       "      <td>1.000000</td>\n",
       "      <td>1.000000</td>\n",
       "      <td>1.000000</td>\n",
       "      <td>1.000000</td>\n",
       "      <td>1.000000</td>\n",
       "      <td>1.000000</td>\n",
       "      <td>1.000000</td>\n",
       "      <td>1.000000</td>\n",
       "      <td>1.000000</td>\n",
       "      <td>1.000000</td>\n",
       "    </tr>\n",
       "  </tbody>\n",
       "</table>\n",
       "<p>8 rows × 62 columns</p>\n",
       "</div>"
      ],
      "text/plain": [
       "       Account_Length  Vmail_Message  CustServ_Calls    Intl_Plan  \\\n",
       "count     3312.000000    3312.000000     3312.000000  3312.000000   \n",
       "mean        -0.000248       0.001656       -0.000271     0.002077   \n",
       "std          1.001795       1.001583        1.000789     1.002975   \n",
       "min         -2.513172      -0.591760       -1.188218    -0.327580   \n",
       "25%         -0.679745      -0.591760       -0.427932    -0.327580   \n",
       "50%         -0.001628      -0.591760       -0.427932    -0.327580   \n",
       "75%          0.651374       0.869554        0.332354    -0.327580   \n",
       "max          3.564766       3.134591        5.654360     3.052685   \n",
       "\n",
       "          Day_Cost  Avg_Night_Calls     Eve_Cost   Night_Cost    Intl_Cost  \\\n",
       "count  3312.000000      3312.000000  3312.000000  3312.000000  3312.000000   \n",
       "mean      0.001117        -0.000301     0.000353     0.001374     0.000184   \n",
       "std       1.001377         1.000933     0.998230     0.999551     0.999573   \n",
       "min     -18.318395        -2.627713    -4.486953    -6.674367    -8.046175   \n",
       "25%      -0.487447        -0.682394    -0.752301    -0.742415    -0.732135   \n",
       "50%      -0.032721        -0.121415     0.071520     0.020513     0.170833   \n",
       "75%       0.510323         0.523180     0.777587     0.731319     0.745449   \n",
       "max      27.978214         7.093262     3.993526    10.474826     5.741687   \n",
       "\n",
       "       Avg_Day_Calls  ...           SD           TN           TX           UT  \\\n",
       "count    3312.000000  ...  3312.000000  3312.000000  3312.000000  3312.000000   \n",
       "mean        0.001775  ...     0.017814     0.016002     0.021739     0.021437   \n",
       "std         0.999149  ...     0.132295     0.125503     0.145853     0.144858   \n",
       "min        -2.528604  ...     0.000000     0.000000     0.000000     0.000000   \n",
       "25%        -0.672960  ...     0.000000     0.000000     0.000000     0.000000   \n",
       "50%        -0.110745  ...     0.000000     0.000000     0.000000     0.000000   \n",
       "75%         0.535215  ...     0.000000     0.000000     0.000000     0.000000   \n",
       "max         7.315365  ...     1.000000     1.000000     1.000000     1.000000   \n",
       "\n",
       "                VA           VT           WA           WI           WV  \\\n",
       "count  3312.000000  3312.000000  3312.000000  3312.000000  3312.000000   \n",
       "mean      0.022947     0.021135     0.019928     0.023249     0.032005   \n",
       "std       0.149757     0.143857     0.139772     0.150715     0.176039   \n",
       "min       0.000000     0.000000     0.000000     0.000000     0.000000   \n",
       "25%       0.000000     0.000000     0.000000     0.000000     0.000000   \n",
       "50%       0.000000     0.000000     0.000000     0.000000     0.000000   \n",
       "75%       0.000000     0.000000     0.000000     0.000000     0.000000   \n",
       "max       1.000000     1.000000     1.000000     1.000000     1.000000   \n",
       "\n",
       "                WY  \n",
       "count  3312.000000  \n",
       "mean      0.023249  \n",
       "std       0.150715  \n",
       "min       0.000000  \n",
       "25%       0.000000  \n",
       "50%       0.000000  \n",
       "75%       0.000000  \n",
       "max       1.000000  \n",
       "\n",
       "[8 rows x 62 columns]"
      ]
     },
     "execution_count": 149,
     "metadata": {},
     "output_type": "execute_result"
    }
   ],
   "source": [
    "X.describe()"
   ]
  },
  {
   "cell_type": "code",
   "execution_count": 150,
   "id": "4b95c658",
   "metadata": {},
   "outputs": [
    {
     "data": {
      "text/plain": [
       "Account_Length    0\n",
       "Vmail_Message     0\n",
       "CustServ_Calls    0\n",
       "Intl_Plan         0\n",
       "Day_Cost          0\n",
       "                 ..\n",
       "VT                0\n",
       "WA                0\n",
       "WI                0\n",
       "WV                0\n",
       "WY                0\n",
       "Length: 62, dtype: int64"
      ]
     },
     "execution_count": 150,
     "metadata": {},
     "output_type": "execute_result"
    }
   ],
   "source": [
    "np.isinf(X).sum()"
   ]
  },
  {
   "cell_type": "code",
   "execution_count": 151,
   "id": "8c2020d5",
   "metadata": {},
   "outputs": [
    {
     "data": {
      "text/plain": [
       "Account_Length    0\n",
       "Vmail_Message     0\n",
       "CustServ_Calls    0\n",
       "Intl_Plan         0\n",
       "Day_Cost          0\n",
       "                 ..\n",
       "VT                0\n",
       "WA                0\n",
       "WI                0\n",
       "WV                0\n",
       "WY                0\n",
       "Length: 62, dtype: int64"
      ]
     },
     "execution_count": 151,
     "metadata": {},
     "output_type": "execute_result"
    }
   ],
   "source": [
    "X.isna().sum()"
   ]
  },
  {
   "attachments": {
    "image.png": {
     "image/png": "[encoded data removed]"
    }
   },
   "cell_type": "markdown",
   "id": "76d94953",
   "metadata": {},
   "source": [
    "## 3. Make prediction\n",
    "- Logistic regression: Good baseline\n",
    "  - offers sinplicity and interpretability\n",
    "  - cannot capture more complex relationships\n",
    "- Random forest: good performance but less interpretability\n",
    "- Support vector machines: generally perform well but ineffcient trainers and less interpretability\n",
    "- Evaluating model prediction\n",
    "  - Accuracy: Total num of correct predictions / total num of data points\n",
    "  - other metrics: **accuracy_score, precision_score, recall_score, f1_score**\n",
    "  - **ROC curve**\n",
    "    - probability thresholds: every prediction your classifier makes has an associated probability -> default probability threshold in sklearn is 50%\n",
    "    - **AUC** (area under curve): **roc_auc_score**\n",
    "    - generating probability in sklearn using logreg: y_pred_prob = logreg.predict_proba(test_X)[:,1]\n",
    "    >![image.png](attachment:image.png)\n",
    "- Problematic models \n",
    "  - overfitting: model fits the training data too closely\n",
    "  - underfittig: does not capture trends in the training data \n",
    "  - Imbalanced classes: more data points that belong to one category than another -> accuracy is not a very useful metrics,  and Precision-recall curves tend to be more informative when you have imbalanced classes.\n",
    "      - upsampling: \n",
    "      - downsampling "
   ]
  },
  {
   "attachments": {
    "image-2.png": {
     "image/png": "[encoded data removed]"
    },
    "image.png": {
     "image/png": "[encoded data removed]"
    }
   },
   "cell_type": "markdown",
   "id": "13346a37",
   "metadata": {},
   "source": [
    "> **Confusion matrix**\n",
    ">> ![image.png](attachment:image.png)\n",
    "> - **accuracy_score**: Correctly predicted / Actual + Predicted *(TP + TN)/all*\n",
    "> - **precision_score**: Correctly predicted Churn / Predicted Churn *TP/(TP+FP)* -> high scroce implies fewer false churners, which indicates not many non-churners are classified as churners \n",
    "> - **recall_score**: Correctly predicted Churn / Predicted *TP/(TP+FP)* -> high score implies the model has correctly classified the most churners\n",
    "> - **f1_score**: 2 * (precision * recall) / (precision + recall) -> a high F1 score is a sign of a well-performing model, even in situations where you might have imbalanced classes.\n",
    ">>![image-2.png](attachment:image-2.png)"
   ]
  },
  {
   "cell_type": "code",
   "execution_count": 194,
   "id": "e3f3c47c",
   "metadata": {},
   "outputs": [
    {
     "data": {
      "text/plain": [
       "0    2850\n",
       "1     483\n",
       "Name: Churn, dtype: int64"
      ]
     },
     "execution_count": 194,
     "metadata": {},
     "output_type": "execute_result"
    }
   ],
   "source": [
    "# imbalanced classes\n",
    "telco['Churn'].value_counts()\n",
    "\n",
    "# accuracy will predict the 85% customers of 0 correctly and \n",
    "# less accurate for the customers of 1"
   ]
  },
  {
   "cell_type": "markdown",
   "id": "bd26c98b",
   "metadata": {},
   "source": [
    "**ROC curve**"
   ]
  },
  {
   "cell_type": "code",
   "execution_count": 209,
   "id": "277a6ed2",
   "metadata": {},
   "outputs": [
    {
     "name": "stdout",
     "output_type": "stream",
     "text": [
      "[0.        0.        0.        0.0017762 0.0017762] [0.   0.01 0.03 0.03 0.04] [1.92869511 0.92869511 0.91560881 0.82613928 0.82352167]\n"
     ]
    }
   ],
   "source": [
    "y_pred_prob = logreg.predict_proba(test_X)[:,1]\n",
    "\n",
    "from sklearn.metrics import roc_curve\n",
    "fpr, tpr, thresholds = roc_curve(test_y, y_pred_prob)\n",
    "print(fpr[:5], tpr[:5], thresholds[:5])"
   ]
  },
  {
   "cell_type": "code",
   "execution_count": 210,
   "id": "e731518e",
   "metadata": {},
   "outputs": [
    {
     "data": {
      "image/png": "[encoded data removed]",
      "text/plain": [
       "<Figure size 432x288 with 1 Axes>"
      ]
     },
     "metadata": {
      "needs_background": "light"
     },
     "output_type": "display_data"
    }
   ],
   "source": [
    "plt.plot(fpr, tpr)\n",
    "plt.xlabel('False positive rate')\n",
    "plt.ylabel('True positive rate')\n",
    "plt.plot([0,1], [0,1], 'k--')\n",
    "plt.show()"
   ]
  },
  {
   "cell_type": "code",
   "execution_count": 213,
   "id": "01d6b267",
   "metadata": {},
   "outputs": [
    {
     "data": {
      "text/plain": [
       "0.7959502664298401"
      ]
     },
     "execution_count": 213,
     "metadata": {},
     "output_type": "execute_result"
    }
   ],
   "source": [
    "from sklearn.metrics import roc_auc_score\n",
    "auc = roc_auc_score(test_y,y_pred_prob)\n",
    "auc"
   ]
  },
  {
   "cell_type": "code",
   "execution_count": 181,
   "id": "e707b422",
   "metadata": {},
   "outputs": [
    {
     "name": "stdout",
     "output_type": "stream",
     "text": [
      "(2649, 62) (2649,) (663, 62) (663,)\n"
     ]
    }
   ],
   "source": [
    "from sklearn.model_selection import train_test_split\n",
    "train_X, test_X, train_y, test_y = train_test_split(X,y,\n",
    "                                                   test_size = 0.2,\n",
    "                                                   random_state = 1)\n",
    "print(train_X.shape, train_y.shape, test_X.shape, test_y.shape)"
   ]
  },
  {
   "cell_type": "markdown",
   "id": "a26b17f1",
   "metadata": {},
   "source": [
    "### Support vector machines(SVM)\n",
    "- X and y must be numpy or DataFrame\n",
    "- X and y must be continuous \n",
    "- y must be 1d"
   ]
  },
  {
   "cell_type": "code",
   "execution_count": 182,
   "id": "87bc0e05",
   "metadata": {},
   "outputs": [
    {
     "data": {
      "text/plain": [
       "SVC()"
      ]
     },
     "execution_count": 182,
     "metadata": {},
     "output_type": "execute_result"
    }
   ],
   "source": [
    "from sklearn.svm import SVC\n",
    "svc = SVC()\n",
    "svc.fit(train_X, train_y)"
   ]
  },
  {
   "cell_type": "code",
   "execution_count": 184,
   "id": "227575fe",
   "metadata": {},
   "outputs": [
    {
     "name": "stdout",
     "output_type": "stream",
     "text": [
      "[0 0 0 0 0 0 0 0 0 0]\n"
     ]
    }
   ],
   "source": [
    "prediction_svc = svc.predict(test_X)\n",
    "print(prediction_svc[:10])"
   ]
  },
  {
   "cell_type": "code",
   "execution_count": 190,
   "id": "dbf34afa",
   "metadata": {},
   "outputs": [
    {
     "data": {
      "text/plain": [
       "0.8763197586726998"
      ]
     },
     "execution_count": 190,
     "metadata": {},
     "output_type": "execute_result"
    }
   ],
   "source": [
    "# evaluate \n",
    "svc.score(test_X, test_y)"
   ]
  },
  {
   "cell_type": "code",
   "execution_count": 197,
   "id": "47f4912d",
   "metadata": {},
   "outputs": [
    {
     "data": {
      "text/plain": [
       "array([[558,   5],\n",
       "       [ 77,  23]], dtype=int64)"
      ]
     },
     "execution_count": 197,
     "metadata": {},
     "output_type": "execute_result"
    }
   ],
   "source": [
    "from sklearn.metrics import confusion_matrix\n",
    "cm = confusion_matrix(test_y, prediction_svc)\n",
    "cm"
   ]
  },
  {
   "cell_type": "code",
   "execution_count": 205,
   "id": "ba0dfb34",
   "metadata": {},
   "outputs": [
    {
     "name": "stdout",
     "output_type": "stream",
     "text": [
      "accuracy: 0.8763197586726998, ps:0.8214285714285714, rs:0.23\n"
     ]
    }
   ],
   "source": [
    "from sklearn.metrics import accuracy_score, precision_score, recall_score\n",
    "\n",
    "accuracy = accuracy_score(test_y, prediction_svc)\n",
    "ps = precision_score(test_y, prediction_svc)\n",
    "rs = recall_score(test_y, prediction_svc)\n",
    "print('accuracy: {}, ps:{}, rs:{}'.format(accuracy,ps,rs))"
   ]
  },
  {
   "cell_type": "code",
   "execution_count": 214,
   "id": "e5e2a24c",
   "metadata": {},
   "outputs": [
    {
     "data": {
      "text/plain": [
       "0.6105595026642983"
      ]
     },
     "execution_count": 214,
     "metadata": {},
     "output_type": "execute_result"
    }
   ],
   "source": [
    "from sklearn.metrics import roc_auc_score\n",
    "auc = roc_auc_score(test_y,prediction_svc)\n",
    "auc"
   ]
  },
  {
   "cell_type": "code",
   "execution_count": 216,
   "id": "8255e7d6",
   "metadata": {},
   "outputs": [
    {
     "data": {
      "text/plain": [
       "0.359375"
      ]
     },
     "execution_count": 216,
     "metadata": {},
     "output_type": "execute_result"
    }
   ],
   "source": [
    "from sklearn.metrics import f1_score\n",
    "fs = f1_score(test_y, prediction_svc)\n",
    "fs"
   ]
  },
  {
   "cell_type": "markdown",
   "id": "c86d2354",
   "metadata": {},
   "source": [
    "### LogisticRegression"
   ]
  },
  {
   "cell_type": "code",
   "execution_count": 187,
   "id": "c914d161",
   "metadata": {},
   "outputs": [
    {
     "name": "stdout",
     "output_type": "stream",
     "text": [
      "[0 0 0 0 0 0 0 1 0 0]\n"
     ]
    }
   ],
   "source": [
    "from sklearn.linear_model import LogisticRegression\n",
    "\n",
    "logreg = LogisticRegression()\n",
    "logreg.fit(train_X, train_y)\n",
    "\n",
    "prediction_logreg = logreg.predict(test_X)\n",
    "print(prediction_logreg[:10])"
   ]
  },
  {
   "cell_type": "code",
   "execution_count": 196,
   "id": "cacadd26",
   "metadata": {},
   "outputs": [
    {
     "data": {
      "text/plain": [
       "array([[546,  17],\n",
       "       [ 83,  17]], dtype=int64)"
      ]
     },
     "execution_count": 196,
     "metadata": {},
     "output_type": "execute_result"
    }
   ],
   "source": [
    "cm = confusion_matrix(test_y, prediction_logreg)\n",
    "cm"
   ]
  },
  {
   "cell_type": "code",
   "execution_count": 201,
   "id": "a0cd1536",
   "metadata": {},
   "outputs": [
    {
     "name": "stdout",
     "output_type": "stream",
     "text": [
      "ps:0.5, rs:0.17\n"
     ]
    }
   ],
   "source": [
    "ps = precision_score(test_y, prediction_logreg)\n",
    "rs = recall_score(test_y, prediction_logreg)\n",
    "print('ps:{}, rs:{}'.format(ps,rs))"
   ]
  },
  {
   "cell_type": "code",
   "execution_count": 215,
   "id": "2afb05b6",
   "metadata": {},
   "outputs": [
    {
     "data": {
      "text/plain": [
       "0.5699023090586146"
      ]
     },
     "execution_count": 215,
     "metadata": {},
     "output_type": "execute_result"
    }
   ],
   "source": [
    "from sklearn.metrics import roc_auc_score\n",
    "auc = roc_auc_score(test_y,prediction_logreg)\n",
    "auc"
   ]
  },
  {
   "cell_type": "code",
   "execution_count": 219,
   "id": "20c664e3",
   "metadata": {},
   "outputs": [
    {
     "data": {
      "text/plain": [
       "0.2537313432835821"
      ]
     },
     "execution_count": 219,
     "metadata": {},
     "output_type": "execute_result"
    }
   ],
   "source": [
    "from sklearn.metrics import f1_score\n",
    "fs = f1_score(test_y, prediction_logreg)\n",
    "fs"
   ]
  },
  {
   "cell_type": "markdown",
   "id": "cbcd9b89",
   "metadata": {},
   "source": [
    "### DecisionTreeClassifier"
   ]
  },
  {
   "cell_type": "code",
   "execution_count": 218,
   "id": "fac42b73",
   "metadata": {},
   "outputs": [
    {
     "name": "stdout",
     "output_type": "stream",
     "text": [
      "[0 0 0 0 0 0 1 1 0 0]\n"
     ]
    }
   ],
   "source": [
    "from sklearn.tree import DecisionTreeClassifier\n",
    "\n",
    "mytree = DecisionTreeClassifier()\n",
    "mytree.fit(train_X, train_y)\n",
    "\n",
    "prediction_tree = mytree.predict(test_X)\n",
    "print(prediction_tree[:10])"
   ]
  },
  {
   "cell_type": "markdown",
   "id": "f9595f79",
   "metadata": {},
   "source": [
    "###  RandomForestClassifier\n",
    "- 1. Take bootstrapped samples from the original dataset.\n",
    "- 2. For each bootstrapped sample, build a decision tree using a random subset of the predictor variables.\n",
    "- 3. Average the predictions of each tree to come up with a final model."
   ]
  },
  {
   "cell_type": "code",
   "execution_count": 232,
   "id": "380f9c20",
   "metadata": {},
   "outputs": [
    {
     "name": "stdout",
     "output_type": "stream",
     "text": [
      "0.8763197586726998\n"
     ]
    }
   ],
   "source": [
    "# Import RandomForestClassifier\n",
    "from sklearn.ensemble import RandomForestClassifier\n",
    "\n",
    "# Instantiate the classifier\n",
    "randomforest = RandomForestClassifier()\n",
    "\n",
    "# Fit to the training data\n",
    "randomforest.fit(train_X, train_y)\n",
    "\n",
    "# Compute accuracy\n",
    "print(randomforest.score(test_X, test_y))"
   ]
  },
  {
   "cell_type": "code",
   "execution_count": 233,
   "id": "1897f88d",
   "metadata": {},
   "outputs": [],
   "source": [
    "y_pred = randomforest.predict(test_X)"
   ]
  },
  {
   "cell_type": "code",
   "execution_count": 234,
   "id": "d7ba8dbc",
   "metadata": {},
   "outputs": [
    {
     "data": {
      "text/plain": [
       "array([[556,   7],\n",
       "       [ 75,  25]], dtype=int64)"
      ]
     },
     "execution_count": 234,
     "metadata": {},
     "output_type": "execute_result"
    }
   ],
   "source": [
    "cm = confusion_matrix(test_y,  y_pred)\n",
    "cm"
   ]
  },
  {
   "cell_type": "code",
   "execution_count": 203,
   "id": "0fb1f0dd",
   "metadata": {},
   "outputs": [
    {
     "name": "stdout",
     "output_type": "stream",
     "text": [
      "ps:0.7058823529411765, rs:0.24\n"
     ]
    }
   ],
   "source": [
    "ps = precision_score(test_y, y_pred)\n",
    "rs = recall_score(test_y, y_pred)\n",
    "print('ps:{}, rs:{}'.format(ps,rs))"
   ]
  },
  {
   "attachments": {
    "image-2.png": {
     "image/png": "[encoded data removed]"
    },
    "image.png": {
     "image/png": "[encoded data removed]"
    }
   },
   "cell_type": "markdown",
   "id": "2d9436a3",
   "metadata": {},
   "source": [
    "## 4. Tuning the models \n",
    "- Hyperparameter tuning technique: grid-search cross validation\n",
    "  - GridSearchCV\n",
    "  - RandomizedSearchCV: randomly jump around the grid and try different combinations.\n",
    "> **randomforest hyperparameter**\n",
    "![image.png](attachment:image.png)\n",
    "- Feature importance: score represents how much feature contribute to a prediction -> define the drivers of churn\n",
    "  - Effective way to communicate results to stakeholders\n",
    "  - Need to balance prediction accuracy and interpretability\n",
    "- Adding new features\n",
    "> ![image-2.png](attachment:image-2.png)\n",
    "  - Benefits\n",
    "    - improved return on investment\n",
    "    - decreased costs\n",
    "    - increased performance\n",
    "  - Costs\n",
    "    - increased complexity\n",
    "    - increased resouces\n",
    "    - increased time to operationalizing"
   ]
  },
  {
   "cell_type": "markdown",
   "id": "1cb54695",
   "metadata": {},
   "source": [
    "**GridSearchCV**"
   ]
  },
  {
   "cell_type": "code",
   "execution_count": 221,
   "id": "bcf67376",
   "metadata": {},
   "outputs": [
    {
     "data": {
      "text/plain": [
       "{'n_estimators': 50}"
      ]
     },
     "execution_count": 221,
     "metadata": {},
     "output_type": "execute_result"
    }
   ],
   "source": [
    "from sklearn.model_selection import GridSearchCV\n",
    "\n",
    "param_grid = {'n_estimators': np.arange(10,51)}\n",
    "clf_cv = GridSearchCV(RandomForestClassifier(), param_grid)\n",
    "clf_cv.fit(X,y)\n",
    "clf_cv.best_params_"
   ]
  },
  {
   "cell_type": "code",
   "execution_count": 222,
   "id": "5d5e96ef",
   "metadata": {},
   "outputs": [
    {
     "data": {
      "text/plain": [
       "0.8858748798148122"
      ]
     },
     "execution_count": 222,
     "metadata": {},
     "output_type": "execute_result"
    }
   ],
   "source": [
    "clf_cv.best_score_"
   ]
  },
  {
   "cell_type": "markdown",
   "id": "83d9b535",
   "metadata": {},
   "source": [
    "**RandomizedSearchCV**"
   ]
  },
  {
   "cell_type": "code",
   "execution_count": 230,
   "id": "35bbdcfb",
   "metadata": {},
   "outputs": [
    {
     "name": "stdout",
     "output_type": "stream",
     "text": [
      "{'max_features': 10, 'max_depth': None, 'criterion': 'gini', 'bootstrap': False}\n"
     ]
    }
   ],
   "source": [
    "# Import RandomizedSearchCV\n",
    "from sklearn.model_selection import RandomizedSearchCV\n",
    "\n",
    "# Create the hyperparameter grid\n",
    "param_dist = {\"max_depth\": [3, None],\n",
    "              \"max_features\": np.arange(1, 11),\n",
    "              \"bootstrap\": [True, False],\n",
    "              \"criterion\": [\"gini\", \"entropy\"]}\n",
    "\n",
    "# Call RandomizedSearchCV\n",
    "random_search = RandomizedSearchCV(RandomForestClassifier(), param_dist, cv=3)\n",
    "\n",
    "# Fit the model\n",
    "random_search.fit(X,y)\n",
    "\n",
    "# Print best parameters\n",
    "print(random_search.best_params_)"
   ]
  },
  {
   "cell_type": "code",
   "execution_count": 231,
   "id": "75dddc96",
   "metadata": {},
   "outputs": [
    {
     "data": {
      "text/plain": [
       "0.8903985507246377"
      ]
     },
     "execution_count": 231,
     "metadata": {},
     "output_type": "execute_result"
    }
   ],
   "source": [
    "random_search.best_score_"
   ]
  },
  {
   "cell_type": "markdown",
   "id": "5f9724f8",
   "metadata": {},
   "source": [
    "**Feature importance**"
   ]
  },
  {
   "cell_type": "code",
   "execution_count": 235,
   "id": "e1dda09e",
   "metadata": {},
   "outputs": [
    {
     "data": {
      "text/plain": [
       "array([0.06259985, 0.0258233 , 0.11714047, 0.05963127, 0.06779004,\n",
       "       0.06384064, 0.0630215 , 0.06270621, 0.05772728, 0.1160098 ,\n",
       "       0.07032162, 0.0851613 , 0.00227201, 0.00249729, 0.00263035,\n",
       "       0.0040179 , 0.00261297, 0.00439821, 0.00190722, 0.00343988,\n",
       "       0.0021258 , 0.00285079, 0.00116805, 0.00065351, 0.00202477,\n",
       "       0.00146677, 0.00255675, 0.00519532, 0.00200088, 0.00176382,\n",
       "       0.0028077 , 0.00542091, 0.004413  , 0.00293378, 0.00306904,\n",
       "       0.00247117, 0.00375965, 0.0033549 , 0.00347902, 0.00250915,\n",
       "       0.00152596, 0.00288968, 0.00519172, 0.00234499, 0.00531241,\n",
       "       0.00287614, 0.0036985 , 0.00247802, 0.00399469, 0.00225829,\n",
       "       0.0021096 , 0.00474633, 0.00185258, 0.00123861, 0.00472859,\n",
       "       0.00279585, 0.00241049, 0.00306695, 0.00546325, 0.00257862,\n",
       "       0.00247537, 0.00238944])"
      ]
     },
     "execution_count": 235,
     "metadata": {},
     "output_type": "execute_result"
    }
   ],
   "source": [
    "randomforest.feature_importances_"
   ]
  },
  {
   "cell_type": "code",
   "execution_count": 237,
   "id": "019cf0ed",
   "metadata": {},
   "outputs": [
    {
     "data": {
      "image/png": "[encoded data removed]",
      "text/plain": [
       "<Figure size 432x288 with 1 Axes>"
      ]
     },
     "metadata": {
      "needs_background": "light"
     },
     "output_type": "display_data"
    }
   ],
   "source": [
    "# Calculate feature importances\n",
    "importances = randomforest.feature_importances_\n",
    "\n",
    "# Create plot\n",
    "plt.barh(range(X.shape[1]), importances)\n",
    "plt.show()"
   ]
  },
  {
   "cell_type": "code",
   "execution_count": 250,
   "id": "c17669c5",
   "metadata": {},
   "outputs": [
    {
     "data": {
      "image/png": "[encoded data removed]",
      "text/plain": [
       "<Figure size 720x1152 with 1 Axes>"
      ]
     },
     "metadata": {
      "needs_background": "light"
     },
     "output_type": "display_data"
    }
   ],
   "source": [
    "plt.figure(figsize=(10,16))\n",
    "\n",
    "# Sort importances\n",
    "sorted_index = np.argsort(importances)\n",
    "\n",
    "# Create labels\n",
    "labels = X.columns[sorted_index]\n",
    "\n",
    "# Clear current plot\n",
    "plt.clf()\n",
    "\n",
    "# Create plot\n",
    "plt.barh(range(X.shape[1]), \n",
    "         importances[sorted_index],\n",
    "         tick_label= labels)\n",
    "plt.show()"
   ]
  },
  {
   "cell_type": "markdown",
   "id": "996a08ce",
   "metadata": {},
   "source": [
    "**Recommended next steps:** \n",
    "- exploratory data analysis in python\n",
    "- designing machine learning workflows in python\n",
    "Additonal resources:\n",
    "- kaggle competitions\n",
    "- cousera advanced business analytics specialization"
   ]
  },
  {
   "cell_type": "code",
   "execution_count": null,
   "id": "c128c912",
   "metadata": {},
   "outputs": [],
   "source": []
  }
 ],
 "metadata": {
  "kernelspec": {
   "display_name": "Python 3 (ipykernel)",
   "language": "python",
   "name": "python3"
  },
  "language_info": {
   "codemirror_mode": {
    "name": "ipython",
    "version": 3
   },
   "file_extension": ".py",
   "mimetype": "text/x-python",
   "name": "python",
   "nbconvert_exporter": "python",
   "pygments_lexer": "ipython3",
   "version": "3.9.12"
  }
 },
 "nbformat": 4,
 "nbformat_minor": 5
}
